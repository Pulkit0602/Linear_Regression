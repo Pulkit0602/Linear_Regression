{
 "cells": [
  {
   "cell_type": "markdown",
   "id": "fb583751",
   "metadata": {},
   "source": [
    "## IMPORTING NECESSARY FILES\n"
   ]
  },
  {
   "cell_type": "code",
   "execution_count": 29,
   "id": "c744ec2f",
   "metadata": {},
   "outputs": [],
   "source": [
    "from sklearn.datasets import load_diabetes\n",
    "import numpy as np\n",
    "import pandas as pd\n",
    "from sklearn.linear_model import LinearRegression\n",
    "from sklearn.metrics import r2_score\n",
    "from sklearn.model_selection import train_test_split\n",
    "import random"
   ]
  },
  {
   "cell_type": "markdown",
   "id": "762537aa",
   "metadata": {},
   "source": [
    "### READING THE DATASET \n"
   ]
  },
  {
   "cell_type": "code",
   "execution_count": 2,
   "id": "2bf83f40",
   "metadata": {},
   "outputs": [],
   "source": [
    "X,Y = load_diabetes(return_X_y=True)\n",
    "#HERE x HAVE THE COLUMN OF ALL THE FEATURES \n",
    "#Y HAVE THE ACTUAL OUTPUT VALUE \n"
   ]
  },
  {
   "cell_type": "code",
   "execution_count": 3,
   "id": "6ab3bd22",
   "metadata": {},
   "outputs": [],
   "source": [
    "#FOR VISUALIZATION OF THE MATRIX \n",
    "df1=pd.DataFrame(X)\n",
    "df2=pd.DataFrame(Y)"
   ]
  },
  {
   "cell_type": "code",
   "execution_count": 4,
   "id": "bdc484b2",
   "metadata": {},
   "outputs": [
    {
     "data": {
      "text/html": [
       "<div>\n",
       "<style scoped>\n",
       "    .dataframe tbody tr th:only-of-type {\n",
       "        vertical-align: middle;\n",
       "    }\n",
       "\n",
       "    .dataframe tbody tr th {\n",
       "        vertical-align: top;\n",
       "    }\n",
       "\n",
       "    .dataframe thead th {\n",
       "        text-align: right;\n",
       "    }\n",
       "</style>\n",
       "<table border=\"1\" class=\"dataframe\">\n",
       "  <thead>\n",
       "    <tr style=\"text-align: right;\">\n",
       "      <th></th>\n",
       "      <th>0</th>\n",
       "      <th>1</th>\n",
       "      <th>2</th>\n",
       "      <th>3</th>\n",
       "      <th>4</th>\n",
       "      <th>5</th>\n",
       "      <th>6</th>\n",
       "      <th>7</th>\n",
       "      <th>8</th>\n",
       "      <th>9</th>\n",
       "    </tr>\n",
       "  </thead>\n",
       "  <tbody>\n",
       "    <tr>\n",
       "      <th>0</th>\n",
       "      <td>0.038076</td>\n",
       "      <td>0.050680</td>\n",
       "      <td>0.061696</td>\n",
       "      <td>0.021872</td>\n",
       "      <td>-0.044223</td>\n",
       "      <td>-0.034821</td>\n",
       "      <td>-0.043401</td>\n",
       "      <td>-0.002592</td>\n",
       "      <td>0.019908</td>\n",
       "      <td>-0.017646</td>\n",
       "    </tr>\n",
       "    <tr>\n",
       "      <th>1</th>\n",
       "      <td>-0.001882</td>\n",
       "      <td>-0.044642</td>\n",
       "      <td>-0.051474</td>\n",
       "      <td>-0.026328</td>\n",
       "      <td>-0.008449</td>\n",
       "      <td>-0.019163</td>\n",
       "      <td>0.074412</td>\n",
       "      <td>-0.039493</td>\n",
       "      <td>-0.068330</td>\n",
       "      <td>-0.092204</td>\n",
       "    </tr>\n",
       "    <tr>\n",
       "      <th>2</th>\n",
       "      <td>0.085299</td>\n",
       "      <td>0.050680</td>\n",
       "      <td>0.044451</td>\n",
       "      <td>-0.005671</td>\n",
       "      <td>-0.045599</td>\n",
       "      <td>-0.034194</td>\n",
       "      <td>-0.032356</td>\n",
       "      <td>-0.002592</td>\n",
       "      <td>0.002864</td>\n",
       "      <td>-0.025930</td>\n",
       "    </tr>\n",
       "    <tr>\n",
       "      <th>3</th>\n",
       "      <td>-0.089063</td>\n",
       "      <td>-0.044642</td>\n",
       "      <td>-0.011595</td>\n",
       "      <td>-0.036656</td>\n",
       "      <td>0.012191</td>\n",
       "      <td>0.024991</td>\n",
       "      <td>-0.036038</td>\n",
       "      <td>0.034309</td>\n",
       "      <td>0.022692</td>\n",
       "      <td>-0.009362</td>\n",
       "    </tr>\n",
       "    <tr>\n",
       "      <th>4</th>\n",
       "      <td>0.005383</td>\n",
       "      <td>-0.044642</td>\n",
       "      <td>-0.036385</td>\n",
       "      <td>0.021872</td>\n",
       "      <td>0.003935</td>\n",
       "      <td>0.015596</td>\n",
       "      <td>0.008142</td>\n",
       "      <td>-0.002592</td>\n",
       "      <td>-0.031991</td>\n",
       "      <td>-0.046641</td>\n",
       "    </tr>\n",
       "    <tr>\n",
       "      <th>...</th>\n",
       "      <td>...</td>\n",
       "      <td>...</td>\n",
       "      <td>...</td>\n",
       "      <td>...</td>\n",
       "      <td>...</td>\n",
       "      <td>...</td>\n",
       "      <td>...</td>\n",
       "      <td>...</td>\n",
       "      <td>...</td>\n",
       "      <td>...</td>\n",
       "    </tr>\n",
       "    <tr>\n",
       "      <th>437</th>\n",
       "      <td>0.041708</td>\n",
       "      <td>0.050680</td>\n",
       "      <td>0.019662</td>\n",
       "      <td>0.059744</td>\n",
       "      <td>-0.005697</td>\n",
       "      <td>-0.002566</td>\n",
       "      <td>-0.028674</td>\n",
       "      <td>-0.002592</td>\n",
       "      <td>0.031193</td>\n",
       "      <td>0.007207</td>\n",
       "    </tr>\n",
       "    <tr>\n",
       "      <th>438</th>\n",
       "      <td>-0.005515</td>\n",
       "      <td>0.050680</td>\n",
       "      <td>-0.015906</td>\n",
       "      <td>-0.067642</td>\n",
       "      <td>0.049341</td>\n",
       "      <td>0.079165</td>\n",
       "      <td>-0.028674</td>\n",
       "      <td>0.034309</td>\n",
       "      <td>-0.018118</td>\n",
       "      <td>0.044485</td>\n",
       "    </tr>\n",
       "    <tr>\n",
       "      <th>439</th>\n",
       "      <td>0.041708</td>\n",
       "      <td>0.050680</td>\n",
       "      <td>-0.015906</td>\n",
       "      <td>0.017282</td>\n",
       "      <td>-0.037344</td>\n",
       "      <td>-0.013840</td>\n",
       "      <td>-0.024993</td>\n",
       "      <td>-0.011080</td>\n",
       "      <td>-0.046879</td>\n",
       "      <td>0.015491</td>\n",
       "    </tr>\n",
       "    <tr>\n",
       "      <th>440</th>\n",
       "      <td>-0.045472</td>\n",
       "      <td>-0.044642</td>\n",
       "      <td>0.039062</td>\n",
       "      <td>0.001215</td>\n",
       "      <td>0.016318</td>\n",
       "      <td>0.015283</td>\n",
       "      <td>-0.028674</td>\n",
       "      <td>0.026560</td>\n",
       "      <td>0.044528</td>\n",
       "      <td>-0.025930</td>\n",
       "    </tr>\n",
       "    <tr>\n",
       "      <th>441</th>\n",
       "      <td>-0.045472</td>\n",
       "      <td>-0.044642</td>\n",
       "      <td>-0.073030</td>\n",
       "      <td>-0.081414</td>\n",
       "      <td>0.083740</td>\n",
       "      <td>0.027809</td>\n",
       "      <td>0.173816</td>\n",
       "      <td>-0.039493</td>\n",
       "      <td>-0.004220</td>\n",
       "      <td>0.003064</td>\n",
       "    </tr>\n",
       "  </tbody>\n",
       "</table>\n",
       "<p>442 rows × 10 columns</p>\n",
       "</div>"
      ],
      "text/plain": [
       "            0         1         2         3         4         5         6  \\\n",
       "0    0.038076  0.050680  0.061696  0.021872 -0.044223 -0.034821 -0.043401   \n",
       "1   -0.001882 -0.044642 -0.051474 -0.026328 -0.008449 -0.019163  0.074412   \n",
       "2    0.085299  0.050680  0.044451 -0.005671 -0.045599 -0.034194 -0.032356   \n",
       "3   -0.089063 -0.044642 -0.011595 -0.036656  0.012191  0.024991 -0.036038   \n",
       "4    0.005383 -0.044642 -0.036385  0.021872  0.003935  0.015596  0.008142   \n",
       "..        ...       ...       ...       ...       ...       ...       ...   \n",
       "437  0.041708  0.050680  0.019662  0.059744 -0.005697 -0.002566 -0.028674   \n",
       "438 -0.005515  0.050680 -0.015906 -0.067642  0.049341  0.079165 -0.028674   \n",
       "439  0.041708  0.050680 -0.015906  0.017282 -0.037344 -0.013840 -0.024993   \n",
       "440 -0.045472 -0.044642  0.039062  0.001215  0.016318  0.015283 -0.028674   \n",
       "441 -0.045472 -0.044642 -0.073030 -0.081414  0.083740  0.027809  0.173816   \n",
       "\n",
       "            7         8         9  \n",
       "0   -0.002592  0.019908 -0.017646  \n",
       "1   -0.039493 -0.068330 -0.092204  \n",
       "2   -0.002592  0.002864 -0.025930  \n",
       "3    0.034309  0.022692 -0.009362  \n",
       "4   -0.002592 -0.031991 -0.046641  \n",
       "..        ...       ...       ...  \n",
       "437 -0.002592  0.031193  0.007207  \n",
       "438  0.034309 -0.018118  0.044485  \n",
       "439 -0.011080 -0.046879  0.015491  \n",
       "440  0.026560  0.044528 -0.025930  \n",
       "441 -0.039493 -0.004220  0.003064  \n",
       "\n",
       "[442 rows x 10 columns]"
      ]
     },
     "execution_count": 4,
     "metadata": {},
     "output_type": "execute_result"
    }
   ],
   "source": [
    "df1"
   ]
  },
  {
   "cell_type": "markdown",
   "id": "1c60868e",
   "metadata": {},
   "source": [
    "SPLITTING TEST TRAIN DATA \n"
   ]
  },
  {
   "cell_type": "code",
   "execution_count": 5,
   "id": "fbdaf46a",
   "metadata": {},
   "outputs": [],
   "source": [
    "X_train,X_test,Y_train,Y_test = train_test_split(X,Y,test_size=0.2,random_state=2)"
   ]
  },
  {
   "cell_type": "markdown",
   "id": "7e7c9143",
   "metadata": {},
   "source": [
    "### USING PREDEFINRD REGRESSION MODEL THAT USES OLS (ORDINARY LEAST SQUARE )"
   ]
  },
  {
   "cell_type": "code",
   "execution_count": 6,
   "id": "73cdec85",
   "metadata": {},
   "outputs": [],
   "source": [
    "reg=LinearRegression()\n",
    "#REG IS THE OBJECT "
   ]
  },
  {
   "cell_type": "code",
   "execution_count": 7,
   "id": "c2e45af7",
   "metadata": {},
   "outputs": [
    {
     "data": {
      "text/plain": [
       "LinearRegression()"
      ]
     },
     "execution_count": 7,
     "metadata": {},
     "output_type": "execute_result"
    }
   ],
   "source": [
    "reg.fit(X_train,Y_train)\n",
    "#CALLING THE FIT METHOD"
   ]
  },
  {
   "cell_type": "code",
   "execution_count": 8,
   "id": "f03e80ad",
   "metadata": {},
   "outputs": [],
   "source": [
    "coeff=pd.DataFrame(reg.coef_)\n",
    "intercept=reg.intercept_\n",
    "#CALCULATING INTERCEPT AND COEF"
   ]
  },
  {
   "cell_type": "code",
   "execution_count": 9,
   "id": "6c624ec3",
   "metadata": {},
   "outputs": [
    {
     "data": {
      "text/html": [
       "<div>\n",
       "<style scoped>\n",
       "    .dataframe tbody tr th:only-of-type {\n",
       "        vertical-align: middle;\n",
       "    }\n",
       "\n",
       "    .dataframe tbody tr th {\n",
       "        vertical-align: top;\n",
       "    }\n",
       "\n",
       "    .dataframe thead th {\n",
       "        text-align: right;\n",
       "    }\n",
       "</style>\n",
       "<table border=\"1\" class=\"dataframe\">\n",
       "  <thead>\n",
       "    <tr style=\"text-align: right;\">\n",
       "      <th></th>\n",
       "      <th>0</th>\n",
       "    </tr>\n",
       "  </thead>\n",
       "  <tbody>\n",
       "    <tr>\n",
       "      <th>0</th>\n",
       "      <td>-9.160885</td>\n",
       "    </tr>\n",
       "    <tr>\n",
       "      <th>1</th>\n",
       "      <td>-205.462260</td>\n",
       "    </tr>\n",
       "    <tr>\n",
       "      <th>2</th>\n",
       "      <td>516.684624</td>\n",
       "    </tr>\n",
       "    <tr>\n",
       "      <th>3</th>\n",
       "      <td>340.627341</td>\n",
       "    </tr>\n",
       "    <tr>\n",
       "      <th>4</th>\n",
       "      <td>-895.543609</td>\n",
       "    </tr>\n",
       "    <tr>\n",
       "      <th>5</th>\n",
       "      <td>561.214533</td>\n",
       "    </tr>\n",
       "    <tr>\n",
       "      <th>6</th>\n",
       "      <td>153.884786</td>\n",
       "    </tr>\n",
       "    <tr>\n",
       "      <th>7</th>\n",
       "      <td>126.734316</td>\n",
       "    </tr>\n",
       "    <tr>\n",
       "      <th>8</th>\n",
       "      <td>861.121400</td>\n",
       "    </tr>\n",
       "    <tr>\n",
       "      <th>9</th>\n",
       "      <td>52.419828</td>\n",
       "    </tr>\n",
       "  </tbody>\n",
       "</table>\n",
       "</div>"
      ],
      "text/plain": [
       "            0\n",
       "0   -9.160885\n",
       "1 -205.462260\n",
       "2  516.684624\n",
       "3  340.627341\n",
       "4 -895.543609\n",
       "5  561.214533\n",
       "6  153.884786\n",
       "7  126.734316\n",
       "8  861.121400\n",
       "9   52.419828"
      ]
     },
     "execution_count": 9,
     "metadata": {},
     "output_type": "execute_result"
    }
   ],
   "source": [
    "coeff"
   ]
  },
  {
   "cell_type": "code",
   "execution_count": 10,
   "id": "b1dc2876",
   "metadata": {
    "scrolled": true
   },
   "outputs": [
    {
     "data": {
      "text/plain": [
       "151.88334520854633"
      ]
     },
     "execution_count": 10,
     "metadata": {},
     "output_type": "execute_result"
    }
   ],
   "source": [
    "intercept"
   ]
  },
  {
   "cell_type": "code",
   "execution_count": 11,
   "id": "35ce4506",
   "metadata": {},
   "outputs": [],
   "source": [
    "Y_Predict=reg.predict(X_test)\n",
    "Y_Predict=pd.DataFrame(Y_Predict)\n",
    "#CALLING THE PREDICT METHOD"
   ]
  },
  {
   "cell_type": "code",
   "execution_count": 12,
   "id": "3c5de554",
   "metadata": {},
   "outputs": [
    {
     "data": {
      "text/html": [
       "<div>\n",
       "<style scoped>\n",
       "    .dataframe tbody tr th:only-of-type {\n",
       "        vertical-align: middle;\n",
       "    }\n",
       "\n",
       "    .dataframe tbody tr th {\n",
       "        vertical-align: top;\n",
       "    }\n",
       "\n",
       "    .dataframe thead th {\n",
       "        text-align: right;\n",
       "    }\n",
       "</style>\n",
       "<table border=\"1\" class=\"dataframe\">\n",
       "  <thead>\n",
       "    <tr style=\"text-align: right;\">\n",
       "      <th></th>\n",
       "      <th>0</th>\n",
       "    </tr>\n",
       "  </thead>\n",
       "  <tbody>\n",
       "    <tr>\n",
       "      <th>0</th>\n",
       "      <td>154.123507</td>\n",
       "    </tr>\n",
       "    <tr>\n",
       "      <th>1</th>\n",
       "      <td>204.817216</td>\n",
       "    </tr>\n",
       "    <tr>\n",
       "      <th>2</th>\n",
       "      <td>124.929880</td>\n",
       "    </tr>\n",
       "    <tr>\n",
       "      <th>3</th>\n",
       "      <td>106.093396</td>\n",
       "    </tr>\n",
       "    <tr>\n",
       "      <th>4</th>\n",
       "      <td>258.530357</td>\n",
       "    </tr>\n",
       "    <tr>\n",
       "      <th>...</th>\n",
       "      <td>...</td>\n",
       "    </tr>\n",
       "    <tr>\n",
       "      <th>84</th>\n",
       "      <td>208.268166</td>\n",
       "    </tr>\n",
       "    <tr>\n",
       "      <th>85</th>\n",
       "      <td>143.796291</td>\n",
       "    </tr>\n",
       "    <tr>\n",
       "      <th>86</th>\n",
       "      <td>291.284381</td>\n",
       "    </tr>\n",
       "    <tr>\n",
       "      <th>87</th>\n",
       "      <td>206.326013</td>\n",
       "    </tr>\n",
       "    <tr>\n",
       "      <th>88</th>\n",
       "      <td>94.228010</td>\n",
       "    </tr>\n",
       "  </tbody>\n",
       "</table>\n",
       "<p>89 rows × 1 columns</p>\n",
       "</div>"
      ],
      "text/plain": [
       "             0\n",
       "0   154.123507\n",
       "1   204.817216\n",
       "2   124.929880\n",
       "3   106.093396\n",
       "4   258.530357\n",
       "..         ...\n",
       "84  208.268166\n",
       "85  143.796291\n",
       "86  291.284381\n",
       "87  206.326013\n",
       "88   94.228010\n",
       "\n",
       "[89 rows x 1 columns]"
      ]
     },
     "execution_count": 12,
     "metadata": {},
     "output_type": "execute_result"
    }
   ],
   "source": [
    "Y_Predict"
   ]
  },
  {
   "cell_type": "markdown",
   "id": "40687d7c",
   "metadata": {},
   "source": [
    "## CALUCULATING THE EVALUATION PARAMETER "
   ]
  },
  {
   "cell_type": "code",
   "execution_count": 13,
   "id": "f41b58d8",
   "metadata": {},
   "outputs": [],
   "source": [
    "R2=r2_score(Y_test,Y_Predict)"
   ]
  },
  {
   "cell_type": "code",
   "execution_count": 14,
   "id": "c60dba18",
   "metadata": {
    "scrolled": true
   },
   "outputs": [
    {
     "data": {
      "text/plain": [
       "0.4399387660024645"
      ]
     },
     "execution_count": 14,
     "metadata": {},
     "output_type": "execute_result"
    }
   ],
   "source": [
    "R2"
   ]
  },
  {
   "cell_type": "markdown",
   "id": "f298c5e9",
   "metadata": {},
   "source": [
    "## SCRATCH MODEL BUILD UP"
   ]
  },
  {
   "cell_type": "markdown",
   "id": "7c757a61",
   "metadata": {},
   "source": [
    "### DEFINING OWN CLASS"
   ]
  },
  {
   "cell_type": "code",
   "execution_count": 148,
   "id": "44bb0f4e",
   "metadata": {},
   "outputs": [],
   "source": [
    "class Scratch_MiniReg():\n",
    "    \n",
    "    def __init__(self,LearningRate,epochs,BatchSize):\n",
    "        self.lr=LearningRate\n",
    "        self.epochs=epochs\n",
    "        self.bs=BatchSize\n",
    "        self.intercept=None\n",
    "        self.coeff=None\n",
    "        self.constant = -2/self.bs\n",
    "        \n",
    "    def fit(self,X_train,Y_train):\n",
    "        self.coeff=np.ones(X_train.shape[1])\n",
    "        self.intercept=0\n",
    "        \n",
    "        for i in range(self.epochs):\n",
    "            for j in range(int(X_train.shape[0]/self.bs)):\n",
    "                idx= random.sample(range(0,X_train.shape[0]), self.bs)        #idx will be a list             \n",
    "\n",
    "                #CALCULATING Y PREDICTED\n",
    "                Y_hat = np.dot(X_train[idx],self.coeff) + self.intercept      #np for indexig can also take a list\n",
    "\n",
    "                #CALCULATING SLOPE DERIVATIVES \n",
    "                slope_intercept = -2 * np.mean((Y_train[idx]-Y_hat))           \n",
    "                coeff_slope = (np.dot(np.transpose(X_train[idx]),Y_train[idx]-Y_hat)) * -2\n",
    "                #coeff_slope = -2 * (np.dot(X_train[idx],Y_train[idx]-Y_hat)) \n",
    "                #print(coeff_slope)\n",
    "\n",
    "                #CALCULATING INTERCEPT AND SLOPE\n",
    "                self.intercept = self.intercept - (self.lr*slope_intercept)\n",
    "                self.coeff = self.coeff - (self.lr * coeff_slope)\n",
    "                       \n",
    "    def scratch_coeff(self):        \n",
    "        print(\"Coeffiecent: \",self.coeff)\n",
    "    \n",
    "    def scratch_intercept(self):        \n",
    "        print(\"Intercept: \",self.intercept)\n",
    "        \n",
    "    def predict(self,X_test):\n",
    "        return np.dot(X_test,self.coeff) + self.intercept\n",
    "                "
   ]
  },
  {
   "cell_type": "markdown",
   "id": "586c626c",
   "metadata": {},
   "source": [
    "### CHECKING OUTPUTS"
   ]
  },
  {
   "cell_type": "code",
   "execution_count": 149,
   "id": "f481f143",
   "metadata": {},
   "outputs": [],
   "source": [
    "fr=Scratch_MiniReg(0.01,50,30)\n",
    "#MAKING AN OBJECT FR"
   ]
  },
  {
   "cell_type": "code",
   "execution_count": 150,
   "id": "cb129625",
   "metadata": {},
   "outputs": [],
   "source": [
    "fr.fit(X_train,Y_train)\n",
    "#CALLING FIT METHOD"
   ]
  },
  {
   "cell_type": "code",
   "execution_count": 151,
   "id": "305f70ed",
   "metadata": {
    "scrolled": true
   },
   "outputs": [
    {
     "name": "stdout",
     "output_type": "stream",
     "text": [
      "Coeffiecent:  [  57.01971131  -59.97070485  332.27169516  247.06659923   20.50806963\n",
      "  -24.29832099 -171.29300246  128.26814855  308.56063699  136.23625431]\n",
      "Intercept:  153.50266650450743\n"
     ]
    }
   ],
   "source": [
    "fr.scratch_coeff()\n",
    "a=fr.scratch_intercept()\n",
    "#CALLING METHOD FOOR COEFF AND INTERCEPT"
   ]
  },
  {
   "cell_type": "code",
   "execution_count": 152,
   "id": "57f7f603",
   "metadata": {},
   "outputs": [],
   "source": [
    "Y_cal=fr.predict(X_test)"
   ]
  },
  {
   "cell_type": "code",
   "execution_count": 153,
   "id": "dba3fc68",
   "metadata": {},
   "outputs": [
    {
     "data": {
      "text/plain": [
       "array([155.53333476, 191.37023495, 142.25398766, 111.61460603,\n",
       "       244.02059243, 235.64959203, 109.91529483, 117.08361746,\n",
       "        94.91945368, 185.65636596, 163.00656379, 174.45059464,\n",
       "       185.80920586, 152.62642864, 251.61916539,  94.70798256,\n",
       "       185.35531471, 141.39679406, 142.52748824, 141.90170726,\n",
       "       132.93573128, 191.27115097, 168.71384106, 179.39768051,\n",
       "       128.49201387, 220.4334133 , 195.99525781, 123.71041081,\n",
       "        65.45270593, 241.68223354, 235.42538121, 121.96983752,\n",
       "        77.58928692, 112.92069074, 200.93891217, 167.30221025,\n",
       "       168.95604514, 197.25238742, 117.37727753, 234.33152941,\n",
       "       137.13394592, 129.54479556, 185.26453857, 187.86272337,\n",
       "       171.15247073, 147.70308531, 175.39757825, 276.87239383,\n",
       "       120.70331987, 190.84152754, 236.6993295 , 130.76704665,\n",
       "       144.87101306, 153.651472  , 190.67221286, 117.01879599,\n",
       "       158.99387782,  89.5170619 , 160.77404206, 143.94011067,\n",
       "       165.53633424, 172.66127842, 113.18403978, 204.66612699,\n",
       "       159.38368665, 156.84810801, 152.24050721, 188.45026114,\n",
       "       124.4692403 , 146.3274399 , 200.95397841, 187.10985755,\n",
       "       122.17385343, 152.77848296, 142.90483102, 116.10359984,\n",
       "        89.3318523 ,  91.70222228, 172.30417116,  92.81902006,\n",
       "       101.74629367, 112.3946933 , 164.88722648, 257.14244599,\n",
       "       200.79427622, 140.64182081, 248.73075291, 184.79493612,\n",
       "       117.21465859])"
      ]
     },
     "execution_count": 153,
     "metadata": {},
     "output_type": "execute_result"
    }
   ],
   "source": [
    "Y_cal"
   ]
  },
  {
   "cell_type": "markdown",
   "id": "57224189",
   "metadata": {},
   "source": [
    "## CALCULATING PARAMETERS"
   ]
  },
  {
   "cell_type": "code",
   "execution_count": 154,
   "id": "aef40994",
   "metadata": {},
   "outputs": [],
   "source": [
    "R2_scratch=r2_score(Y_test,Y_cal)"
   ]
  },
  {
   "cell_type": "code",
   "execution_count": 155,
   "id": "a4f1df63",
   "metadata": {},
   "outputs": [
    {
     "data": {
      "text/plain": [
       "0.4291914480450483"
      ]
     },
     "execution_count": 155,
     "metadata": {},
     "output_type": "execute_result"
    }
   ],
   "source": [
    "R2_scratch"
   ]
  }
 ],
 "metadata": {
  "kernelspec": {
   "display_name": "Python 3 (ipykernel)",
   "language": "python",
   "name": "python3"
  },
  "language_info": {
   "codemirror_mode": {
    "name": "ipython",
    "version": 3
   },
   "file_extension": ".py",
   "mimetype": "text/x-python",
   "name": "python",
   "nbconvert_exporter": "python",
   "pygments_lexer": "ipython3",
   "version": "3.10.2"
  }
 },
 "nbformat": 4,
 "nbformat_minor": 5
}

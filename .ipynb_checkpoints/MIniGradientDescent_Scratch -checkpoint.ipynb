{
 "cells": [
  {
   "cell_type": "markdown",
   "id": "fb583751",
   "metadata": {},
   "source": [
    "IMPORTING NECESSARY FILES\n"
   ]
  },
  {
   "cell_type": "code",
   "execution_count": 3,
   "id": "c744ec2f",
   "metadata": {},
   "outputs": [],
   "source": [
    "from sklearn.datasets import load_diabetes\n",
    "import numpy as np\n",
    "import pandas as pd\n",
    "from sklearn.linear_model import LinearRegression\n",
    "from sklearn.metrics import r2_score\n",
    "from sklearn.model_selection import train_test_split"
   ]
  },
  {
   "cell_type": "markdown",
   "id": "762537aa",
   "metadata": {},
   "source": [
    "READING THE DATASET \n"
   ]
  },
  {
   "cell_type": "code",
   "execution_count": 4,
   "id": "2bf83f40",
   "metadata": {},
   "outputs": [],
   "source": [
    "X,Y = load_diabetes(return_X_y=True)\n",
    "#HERE x HAVE THE COLUMN OF ALL THE FEATURES \n",
    "#Y HAVE THE ACTUAL OUTPUT VALUE \n"
   ]
  },
  {
   "cell_type": "code",
   "execution_count": 5,
   "id": "6ab3bd22",
   "metadata": {},
   "outputs": [],
   "source": [
    "#FOR VISUALIZATION OF THE MATRIX \n",
    "df1=pd.DataFrame(X)\n",
    "df2=pd.DataFrame(Y)"
   ]
  },
  {
   "cell_type": "code",
   "execution_count": 6,
   "id": "bdc484b2",
   "metadata": {},
   "outputs": [
    {
     "data": {
      "text/html": [
       "<div>\n",
       "<style scoped>\n",
       "    .dataframe tbody tr th:only-of-type {\n",
       "        vertical-align: middle;\n",
       "    }\n",
       "\n",
       "    .dataframe tbody tr th {\n",
       "        vertical-align: top;\n",
       "    }\n",
       "\n",
       "    .dataframe thead th {\n",
       "        text-align: right;\n",
       "    }\n",
       "</style>\n",
       "<table border=\"1\" class=\"dataframe\">\n",
       "  <thead>\n",
       "    <tr style=\"text-align: right;\">\n",
       "      <th></th>\n",
       "      <th>0</th>\n",
       "      <th>1</th>\n",
       "      <th>2</th>\n",
       "      <th>3</th>\n",
       "      <th>4</th>\n",
       "      <th>5</th>\n",
       "      <th>6</th>\n",
       "      <th>7</th>\n",
       "      <th>8</th>\n",
       "      <th>9</th>\n",
       "    </tr>\n",
       "  </thead>\n",
       "  <tbody>\n",
       "    <tr>\n",
       "      <th>0</th>\n",
       "      <td>0.038076</td>\n",
       "      <td>0.050680</td>\n",
       "      <td>0.061696</td>\n",
       "      <td>0.021872</td>\n",
       "      <td>-0.044223</td>\n",
       "      <td>-0.034821</td>\n",
       "      <td>-0.043401</td>\n",
       "      <td>-0.002592</td>\n",
       "      <td>0.019908</td>\n",
       "      <td>-0.017646</td>\n",
       "    </tr>\n",
       "    <tr>\n",
       "      <th>1</th>\n",
       "      <td>-0.001882</td>\n",
       "      <td>-0.044642</td>\n",
       "      <td>-0.051474</td>\n",
       "      <td>-0.026328</td>\n",
       "      <td>-0.008449</td>\n",
       "      <td>-0.019163</td>\n",
       "      <td>0.074412</td>\n",
       "      <td>-0.039493</td>\n",
       "      <td>-0.068330</td>\n",
       "      <td>-0.092204</td>\n",
       "    </tr>\n",
       "    <tr>\n",
       "      <th>2</th>\n",
       "      <td>0.085299</td>\n",
       "      <td>0.050680</td>\n",
       "      <td>0.044451</td>\n",
       "      <td>-0.005671</td>\n",
       "      <td>-0.045599</td>\n",
       "      <td>-0.034194</td>\n",
       "      <td>-0.032356</td>\n",
       "      <td>-0.002592</td>\n",
       "      <td>0.002864</td>\n",
       "      <td>-0.025930</td>\n",
       "    </tr>\n",
       "    <tr>\n",
       "      <th>3</th>\n",
       "      <td>-0.089063</td>\n",
       "      <td>-0.044642</td>\n",
       "      <td>-0.011595</td>\n",
       "      <td>-0.036656</td>\n",
       "      <td>0.012191</td>\n",
       "      <td>0.024991</td>\n",
       "      <td>-0.036038</td>\n",
       "      <td>0.034309</td>\n",
       "      <td>0.022692</td>\n",
       "      <td>-0.009362</td>\n",
       "    </tr>\n",
       "    <tr>\n",
       "      <th>4</th>\n",
       "      <td>0.005383</td>\n",
       "      <td>-0.044642</td>\n",
       "      <td>-0.036385</td>\n",
       "      <td>0.021872</td>\n",
       "      <td>0.003935</td>\n",
       "      <td>0.015596</td>\n",
       "      <td>0.008142</td>\n",
       "      <td>-0.002592</td>\n",
       "      <td>-0.031991</td>\n",
       "      <td>-0.046641</td>\n",
       "    </tr>\n",
       "    <tr>\n",
       "      <th>...</th>\n",
       "      <td>...</td>\n",
       "      <td>...</td>\n",
       "      <td>...</td>\n",
       "      <td>...</td>\n",
       "      <td>...</td>\n",
       "      <td>...</td>\n",
       "      <td>...</td>\n",
       "      <td>...</td>\n",
       "      <td>...</td>\n",
       "      <td>...</td>\n",
       "    </tr>\n",
       "    <tr>\n",
       "      <th>437</th>\n",
       "      <td>0.041708</td>\n",
       "      <td>0.050680</td>\n",
       "      <td>0.019662</td>\n",
       "      <td>0.059744</td>\n",
       "      <td>-0.005697</td>\n",
       "      <td>-0.002566</td>\n",
       "      <td>-0.028674</td>\n",
       "      <td>-0.002592</td>\n",
       "      <td>0.031193</td>\n",
       "      <td>0.007207</td>\n",
       "    </tr>\n",
       "    <tr>\n",
       "      <th>438</th>\n",
       "      <td>-0.005515</td>\n",
       "      <td>0.050680</td>\n",
       "      <td>-0.015906</td>\n",
       "      <td>-0.067642</td>\n",
       "      <td>0.049341</td>\n",
       "      <td>0.079165</td>\n",
       "      <td>-0.028674</td>\n",
       "      <td>0.034309</td>\n",
       "      <td>-0.018118</td>\n",
       "      <td>0.044485</td>\n",
       "    </tr>\n",
       "    <tr>\n",
       "      <th>439</th>\n",
       "      <td>0.041708</td>\n",
       "      <td>0.050680</td>\n",
       "      <td>-0.015906</td>\n",
       "      <td>0.017282</td>\n",
       "      <td>-0.037344</td>\n",
       "      <td>-0.013840</td>\n",
       "      <td>-0.024993</td>\n",
       "      <td>-0.011080</td>\n",
       "      <td>-0.046879</td>\n",
       "      <td>0.015491</td>\n",
       "    </tr>\n",
       "    <tr>\n",
       "      <th>440</th>\n",
       "      <td>-0.045472</td>\n",
       "      <td>-0.044642</td>\n",
       "      <td>0.039062</td>\n",
       "      <td>0.001215</td>\n",
       "      <td>0.016318</td>\n",
       "      <td>0.015283</td>\n",
       "      <td>-0.028674</td>\n",
       "      <td>0.026560</td>\n",
       "      <td>0.044528</td>\n",
       "      <td>-0.025930</td>\n",
       "    </tr>\n",
       "    <tr>\n",
       "      <th>441</th>\n",
       "      <td>-0.045472</td>\n",
       "      <td>-0.044642</td>\n",
       "      <td>-0.073030</td>\n",
       "      <td>-0.081414</td>\n",
       "      <td>0.083740</td>\n",
       "      <td>0.027809</td>\n",
       "      <td>0.173816</td>\n",
       "      <td>-0.039493</td>\n",
       "      <td>-0.004220</td>\n",
       "      <td>0.003064</td>\n",
       "    </tr>\n",
       "  </tbody>\n",
       "</table>\n",
       "<p>442 rows × 10 columns</p>\n",
       "</div>"
      ],
      "text/plain": [
       "            0         1         2         3         4         5         6  \\\n",
       "0    0.038076  0.050680  0.061696  0.021872 -0.044223 -0.034821 -0.043401   \n",
       "1   -0.001882 -0.044642 -0.051474 -0.026328 -0.008449 -0.019163  0.074412   \n",
       "2    0.085299  0.050680  0.044451 -0.005671 -0.045599 -0.034194 -0.032356   \n",
       "3   -0.089063 -0.044642 -0.011595 -0.036656  0.012191  0.024991 -0.036038   \n",
       "4    0.005383 -0.044642 -0.036385  0.021872  0.003935  0.015596  0.008142   \n",
       "..        ...       ...       ...       ...       ...       ...       ...   \n",
       "437  0.041708  0.050680  0.019662  0.059744 -0.005697 -0.002566 -0.028674   \n",
       "438 -0.005515  0.050680 -0.015906 -0.067642  0.049341  0.079165 -0.028674   \n",
       "439  0.041708  0.050680 -0.015906  0.017282 -0.037344 -0.013840 -0.024993   \n",
       "440 -0.045472 -0.044642  0.039062  0.001215  0.016318  0.015283 -0.028674   \n",
       "441 -0.045472 -0.044642 -0.073030 -0.081414  0.083740  0.027809  0.173816   \n",
       "\n",
       "            7         8         9  \n",
       "0   -0.002592  0.019908 -0.017646  \n",
       "1   -0.039493 -0.068330 -0.092204  \n",
       "2   -0.002592  0.002864 -0.025930  \n",
       "3    0.034309  0.022692 -0.009362  \n",
       "4   -0.002592 -0.031991 -0.046641  \n",
       "..        ...       ...       ...  \n",
       "437 -0.002592  0.031193  0.007207  \n",
       "438  0.034309 -0.018118  0.044485  \n",
       "439 -0.011080 -0.046879  0.015491  \n",
       "440  0.026560  0.044528 -0.025930  \n",
       "441 -0.039493 -0.004220  0.003064  \n",
       "\n",
       "[442 rows x 10 columns]"
      ]
     },
     "execution_count": 6,
     "metadata": {},
     "output_type": "execute_result"
    }
   ],
   "source": [
    "df1"
   ]
  },
  {
   "cell_type": "markdown",
   "id": "1c60868e",
   "metadata": {},
   "source": [
    "SPLITTING TEST TRAIN DATA \n"
   ]
  },
  {
   "cell_type": "code",
   "execution_count": 7,
   "id": "fbdaf46a",
   "metadata": {},
   "outputs": [],
   "source": [
    "X_train,X_test,Y_train,Y_test = train_test_split(X,Y,test_size=0.2,random_state=2)"
   ]
  },
  {
   "cell_type": "markdown",
   "id": "7e7c9143",
   "metadata": {},
   "source": [
    "USING PREDEFINRD REGRESSION MODEL THAT USES OLS (ORDINARY LEAST SQUARE )"
   ]
  },
  {
   "cell_type": "code",
   "execution_count": 8,
   "id": "73cdec85",
   "metadata": {},
   "outputs": [],
   "source": [
    "reg=LinearRegression()\n",
    "#REG IS THE OBJECT "
   ]
  },
  {
   "cell_type": "code",
   "execution_count": 9,
   "id": "c2e45af7",
   "metadata": {},
   "outputs": [
    {
     "data": {
      "text/plain": [
       "LinearRegression()"
      ]
     },
     "execution_count": 9,
     "metadata": {},
     "output_type": "execute_result"
    }
   ],
   "source": [
    "reg.fit(X_train,Y_train)\n",
    "#CALLING THE FIT METHOD"
   ]
  },
  {
   "cell_type": "code",
   "execution_count": 10,
   "id": "f03e80ad",
   "metadata": {},
   "outputs": [],
   "source": [
    "coeff=pd.DataFrame(reg.coef_)\n",
    "intercept=reg.intercept_\n",
    "#CALCULATING INTERCEPT AND COEF"
   ]
  },
  {
   "cell_type": "code",
   "execution_count": 11,
   "id": "6c624ec3",
   "metadata": {},
   "outputs": [
    {
     "data": {
      "text/html": [
       "<div>\n",
       "<style scoped>\n",
       "    .dataframe tbody tr th:only-of-type {\n",
       "        vertical-align: middle;\n",
       "    }\n",
       "\n",
       "    .dataframe tbody tr th {\n",
       "        vertical-align: top;\n",
       "    }\n",
       "\n",
       "    .dataframe thead th {\n",
       "        text-align: right;\n",
       "    }\n",
       "</style>\n",
       "<table border=\"1\" class=\"dataframe\">\n",
       "  <thead>\n",
       "    <tr style=\"text-align: right;\">\n",
       "      <th></th>\n",
       "      <th>0</th>\n",
       "    </tr>\n",
       "  </thead>\n",
       "  <tbody>\n",
       "    <tr>\n",
       "      <th>0</th>\n",
       "      <td>-9.160885</td>\n",
       "    </tr>\n",
       "    <tr>\n",
       "      <th>1</th>\n",
       "      <td>-205.462260</td>\n",
       "    </tr>\n",
       "    <tr>\n",
       "      <th>2</th>\n",
       "      <td>516.684624</td>\n",
       "    </tr>\n",
       "    <tr>\n",
       "      <th>3</th>\n",
       "      <td>340.627341</td>\n",
       "    </tr>\n",
       "    <tr>\n",
       "      <th>4</th>\n",
       "      <td>-895.543609</td>\n",
       "    </tr>\n",
       "    <tr>\n",
       "      <th>5</th>\n",
       "      <td>561.214533</td>\n",
       "    </tr>\n",
       "    <tr>\n",
       "      <th>6</th>\n",
       "      <td>153.884786</td>\n",
       "    </tr>\n",
       "    <tr>\n",
       "      <th>7</th>\n",
       "      <td>126.734316</td>\n",
       "    </tr>\n",
       "    <tr>\n",
       "      <th>8</th>\n",
       "      <td>861.121400</td>\n",
       "    </tr>\n",
       "    <tr>\n",
       "      <th>9</th>\n",
       "      <td>52.419828</td>\n",
       "    </tr>\n",
       "  </tbody>\n",
       "</table>\n",
       "</div>"
      ],
      "text/plain": [
       "            0\n",
       "0   -9.160885\n",
       "1 -205.462260\n",
       "2  516.684624\n",
       "3  340.627341\n",
       "4 -895.543609\n",
       "5  561.214533\n",
       "6  153.884786\n",
       "7  126.734316\n",
       "8  861.121400\n",
       "9   52.419828"
      ]
     },
     "execution_count": 11,
     "metadata": {},
     "output_type": "execute_result"
    }
   ],
   "source": [
    "coeff"
   ]
  },
  {
   "cell_type": "code",
   "execution_count": 12,
   "id": "b1dc2876",
   "metadata": {
    "scrolled": true
   },
   "outputs": [
    {
     "data": {
      "text/plain": [
       "151.88334520854633"
      ]
     },
     "execution_count": 12,
     "metadata": {},
     "output_type": "execute_result"
    }
   ],
   "source": [
    "intercept"
   ]
  },
  {
   "cell_type": "code",
   "execution_count": 13,
   "id": "35ce4506",
   "metadata": {},
   "outputs": [],
   "source": [
    "Y_Predict=reg.predict(X_test)\n",
    "Y_Predict=pd.DataFrame(Y_Predict)\n",
    "#CALLING THE PREDICT METHOD"
   ]
  },
  {
   "cell_type": "code",
   "execution_count": 14,
   "id": "3c5de554",
   "metadata": {},
   "outputs": [
    {
     "data": {
      "text/html": [
       "<div>\n",
       "<style scoped>\n",
       "    .dataframe tbody tr th:only-of-type {\n",
       "        vertical-align: middle;\n",
       "    }\n",
       "\n",
       "    .dataframe tbody tr th {\n",
       "        vertical-align: top;\n",
       "    }\n",
       "\n",
       "    .dataframe thead th {\n",
       "        text-align: right;\n",
       "    }\n",
       "</style>\n",
       "<table border=\"1\" class=\"dataframe\">\n",
       "  <thead>\n",
       "    <tr style=\"text-align: right;\">\n",
       "      <th></th>\n",
       "      <th>0</th>\n",
       "    </tr>\n",
       "  </thead>\n",
       "  <tbody>\n",
       "    <tr>\n",
       "      <th>0</th>\n",
       "      <td>154.123507</td>\n",
       "    </tr>\n",
       "    <tr>\n",
       "      <th>1</th>\n",
       "      <td>204.817216</td>\n",
       "    </tr>\n",
       "    <tr>\n",
       "      <th>2</th>\n",
       "      <td>124.929880</td>\n",
       "    </tr>\n",
       "    <tr>\n",
       "      <th>3</th>\n",
       "      <td>106.093396</td>\n",
       "    </tr>\n",
       "    <tr>\n",
       "      <th>4</th>\n",
       "      <td>258.530357</td>\n",
       "    </tr>\n",
       "    <tr>\n",
       "      <th>...</th>\n",
       "      <td>...</td>\n",
       "    </tr>\n",
       "    <tr>\n",
       "      <th>84</th>\n",
       "      <td>208.268166</td>\n",
       "    </tr>\n",
       "    <tr>\n",
       "      <th>85</th>\n",
       "      <td>143.796291</td>\n",
       "    </tr>\n",
       "    <tr>\n",
       "      <th>86</th>\n",
       "      <td>291.284381</td>\n",
       "    </tr>\n",
       "    <tr>\n",
       "      <th>87</th>\n",
       "      <td>206.326013</td>\n",
       "    </tr>\n",
       "    <tr>\n",
       "      <th>88</th>\n",
       "      <td>94.228010</td>\n",
       "    </tr>\n",
       "  </tbody>\n",
       "</table>\n",
       "<p>89 rows × 1 columns</p>\n",
       "</div>"
      ],
      "text/plain": [
       "             0\n",
       "0   154.123507\n",
       "1   204.817216\n",
       "2   124.929880\n",
       "3   106.093396\n",
       "4   258.530357\n",
       "..         ...\n",
       "84  208.268166\n",
       "85  143.796291\n",
       "86  291.284381\n",
       "87  206.326013\n",
       "88   94.228010\n",
       "\n",
       "[89 rows x 1 columns]"
      ]
     },
     "execution_count": 14,
     "metadata": {},
     "output_type": "execute_result"
    }
   ],
   "source": [
    "Y_Predict"
   ]
  },
  {
   "cell_type": "markdown",
   "id": "40687d7c",
   "metadata": {},
   "source": [
    "CALUCULATING THE EVALUATION PARAMETER "
   ]
  },
  {
   "cell_type": "code",
   "execution_count": 15,
   "id": "f41b58d8",
   "metadata": {},
   "outputs": [],
   "source": [
    "R2=r2_score(Y_test,Y_Predict)"
   ]
  },
  {
   "cell_type": "code",
   "execution_count": 16,
   "id": "c60dba18",
   "metadata": {
    "scrolled": true
   },
   "outputs": [
    {
     "data": {
      "text/plain": [
       "0.4399387660024645"
      ]
     },
     "execution_count": 16,
     "metadata": {},
     "output_type": "execute_result"
    }
   ],
   "source": [
    "R2"
   ]
  },
  {
   "cell_type": "markdown",
   "id": "f298c5e9",
   "metadata": {},
   "source": [
    "SCRATCH MODEL BUILD UP"
   ]
  },
  {
   "cell_type": "markdown",
   "id": "7c757a61",
   "metadata": {},
   "source": [
    "DEFINING OWN CLASS"
   ]
  },
  {
   "cell_type": "code",
   "execution_count": 35,
   "id": "31a05639",
   "metadata": {
    "scrolled": true
   },
   "outputs": [
    {
     "data": {
      "text/plain": [
       "(353, 10)"
      ]
     },
     "execution_count": 35,
     "metadata": {},
     "output_type": "execute_result"
    }
   ],
   "source": [
    "X_train.shape"
   ]
  },
  {
   "cell_type": "code",
   "execution_count": 36,
   "id": "d6aa1038",
   "metadata": {},
   "outputs": [],
   "source": [
    "coeff=np.ones(X_train.shape[1])"
   ]
  },
  {
   "cell_type": "code",
   "execution_count": 38,
   "id": "5f8a8766",
   "metadata": {},
   "outputs": [
    {
     "data": {
      "text/plain": [
       "(10,)"
      ]
     },
     "execution_count": 38,
     "metadata": {},
     "output_type": "execute_result"
    }
   ],
   "source": [
    "coeff.shape"
   ]
  },
  {
   "cell_type": "code",
   "execution_count": 48,
   "id": "fef668fb",
   "metadata": {},
   "outputs": [
    {
     "data": {
      "text/plain": [
       "(10,)"
      ]
     },
     "execution_count": 48,
     "metadata": {},
     "output_type": "execute_result"
    }
   ],
   "source": [
    "X_train[42].shape"
   ]
  },
  {
   "cell_type": "code",
   "execution_count": 76,
   "id": "f627376e",
   "metadata": {},
   "outputs": [
    {
     "data": {
      "text/plain": [
       "(10,)"
      ]
     },
     "execution_count": 76,
     "metadata": {},
     "output_type": "execute_result"
    }
   ],
   "source": [
    "X_train[42].shape"
   ]
  },
  {
   "cell_type": "code",
   "execution_count": 50,
   "id": "32de4e6e",
   "metadata": {},
   "outputs": [
    {
     "data": {
      "text/plain": [
       "0.09764317480354642"
      ]
     },
     "execution_count": 50,
     "metadata": {},
     "output_type": "execute_result"
    }
   ],
   "source": [
    "np.dot(X_train[42],coeff)"
   ]
  },
  {
   "cell_type": "code",
   "execution_count": 121,
   "id": "44bb0f4e",
   "metadata": {},
   "outputs": [],
   "source": [
    "class Scratch_StochasticReg():\n",
    "    \n",
    "    def __init__(self,LearningRate,epochs):\n",
    "        self.lr=LearningRate\n",
    "        self.epochs=epochs\n",
    "        self.constant = -2/(X_train.shape[0])\n",
    "        self.intercept=None\n",
    "        self.coeff=None\n",
    "        \n",
    "    def fit(self,X_train,Y_train):\n",
    "        self.coeff=np.ones(X_train.shape[1])\n",
    "        self.intercept=0\n",
    "\n",
    "        for i in range(self.epochs):\n",
    "            for j in range(X_train.shape[0]):\n",
    "                idx=np.random.randint(0,X_train.shape[0])                     \n",
    "\n",
    "                #CALCULATING Y PREDICTED\n",
    "                Y_hat = np.dot(X_train[idx],self.coeff) + self.intercept\n",
    "\n",
    "                #CALCULATING SLOPE DERIVATIVES \n",
    "                slope_intercept = -2 * (Y_train[idx]-Y_hat)           \n",
    "                #coeff_slope = -2 * (np.dot(np.transpose(X_train[idx]),Y_train[idx]-Y_hat)) * self.constant\n",
    "                coeff_slope = -2 * (np.dot(Y_train[idx]-Y_hat,X_train[idx])) \n",
    "                #print(coeff_slope)\n",
    "\n",
    "                #CALCULATING INTERCEPT AND SLOPE\n",
    "                self.intercept = self.intercept - (self.lr*slope_intercept)\n",
    "                self.coeff = self.coeff - (self.lr * coeff_slope)\n",
    "            \n",
    "    def scratch_coeff(self):        \n",
    "        print(\"Coeffiecent: \",self.coeff)\n",
    "    \n",
    "    def scratch_intercept(self):        \n",
    "        print(\"Intercept: \",self.intercept)\n",
    "        \n",
    "    def predict(self,X_test):\n",
    "        return np.dot(X_test,self.coeff) + self.intercept\n",
    "                "
   ]
  },
  {
   "cell_type": "markdown",
   "id": "586c626c",
   "metadata": {},
   "source": [
    "CHECKING OUTPUTS"
   ]
  },
  {
   "cell_type": "code",
   "execution_count": 122,
   "id": "f481f143",
   "metadata": {},
   "outputs": [],
   "source": [
    "fr=Scratch_StochasticReg(0.01,50)\n",
    "#MAKING AN OBJECT FR"
   ]
  },
  {
   "cell_type": "code",
   "execution_count": 123,
   "id": "cb129625",
   "metadata": {},
   "outputs": [],
   "source": [
    "fr.fit(X_train,Y_train)\n",
    "#CALLING FIT METHOD"
   ]
  },
  {
   "cell_type": "code",
   "execution_count": 124,
   "id": "305f70ed",
   "metadata": {
    "scrolled": true
   },
   "outputs": [
    {
     "name": "stdout",
     "output_type": "stream",
     "text": [
      "Coeffiecent:  [  57.11331409  -63.83226784  351.01229035  251.4394913    19.68348815\n",
      "  -23.48722444 -174.21805985  133.39951226  317.26079507  118.33567668]\n",
      "Intercept:  154.75414122770786\n"
     ]
    }
   ],
   "source": [
    "fr.scratch_coeff()\n",
    "fr.scratch_intercept()\n",
    "#CALLING METHOD FOOR COEFF AND INTERCEPT"
   ]
  },
  {
   "cell_type": "code",
   "execution_count": 125,
   "id": "57f7f603",
   "metadata": {},
   "outputs": [],
   "source": [
    "Y_cal=fr.predict(X_test)"
   ]
  },
  {
   "cell_type": "code",
   "execution_count": 126,
   "id": "dba3fc68",
   "metadata": {},
   "outputs": [
    {
     "data": {
      "text/plain": [
       "array([156.40321305, 194.52727471, 142.84518288, 111.06638909,\n",
       "       246.49973088, 239.57288404, 109.16475131, 116.66356408,\n",
       "        95.53877505, 188.14889137, 162.72430949, 176.02954431,\n",
       "       187.72856828, 153.53837526, 255.96572128,  95.09875436,\n",
       "       188.5829543 , 141.27033919, 142.3252462 , 142.08952793,\n",
       "       134.83573233, 192.97339067, 170.91996544, 181.23582363,\n",
       "       128.98805079, 221.50283001, 197.46612966, 124.01985483,\n",
       "        67.0267568 , 244.02561094, 238.96896111, 122.39608229,\n",
       "        78.17986173, 114.34009211, 201.60747391, 169.25488474,\n",
       "       170.14232256, 199.36707751, 118.37702197, 234.49588446,\n",
       "       138.55645542, 130.24211792, 188.8096465 , 189.33934583,\n",
       "       173.6047603 , 149.48168469, 176.58423612, 280.06936949,\n",
       "       121.35661867, 192.92877416, 237.51477919, 133.35463104,\n",
       "       146.52413748, 153.38202999, 192.39494684, 117.54851522,\n",
       "       160.12094064,  88.67987184, 160.99491817, 146.70258285,\n",
       "       167.3533207 , 175.29395947, 114.04088536, 207.99039624,\n",
       "       160.21133392, 157.83677983, 153.22965073, 191.12324699,\n",
       "       124.05840813, 146.42280594, 204.67524502, 189.23235376,\n",
       "       123.67467708, 153.06207619, 142.85432987, 117.65119411,\n",
       "        88.87514708,  93.2803743 , 173.59008804,  93.2325271 ,\n",
       "       103.67115691, 113.42787129, 166.95643765, 261.14550693,\n",
       "       201.01603621, 142.49879716, 252.65311707, 187.74821414,\n",
       "       118.23032533])"
      ]
     },
     "execution_count": 126,
     "metadata": {},
     "output_type": "execute_result"
    }
   ],
   "source": [
    "Y_cal"
   ]
  },
  {
   "cell_type": "markdown",
   "id": "57224189",
   "metadata": {},
   "source": [
    "CALCULATING PARAMETERS"
   ]
  },
  {
   "cell_type": "code",
   "execution_count": 127,
   "id": "aef40994",
   "metadata": {},
   "outputs": [],
   "source": [
    "R2_scratch=r2_score(Y_test,Y_cal)"
   ]
  },
  {
   "cell_type": "code",
   "execution_count": 128,
   "id": "a4f1df63",
   "metadata": {},
   "outputs": [
    {
     "data": {
      "text/plain": [
       "0.43091967254312"
      ]
     },
     "execution_count": 128,
     "metadata": {},
     "output_type": "execute_result"
    }
   ],
   "source": [
    "R2_scratch"
   ]
  }
 ],
 "metadata": {
  "kernelspec": {
   "display_name": "Python 3 (ipykernel)",
   "language": "python",
   "name": "python3"
  },
  "language_info": {
   "codemirror_mode": {
    "name": "ipython",
    "version": 3
   },
   "file_extension": ".py",
   "mimetype": "text/x-python",
   "name": "python",
   "nbconvert_exporter": "python",
   "pygments_lexer": "ipython3",
   "version": "3.10.2"
  }
 },
 "nbformat": 4,
 "nbformat_minor": 5
}

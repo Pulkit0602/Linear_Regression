{
 "cells": [
  {
   "cell_type": "markdown",
   "id": "fb583751",
   "metadata": {},
   "source": [
    "IMPORTING NECESSARY FILES\n"
   ]
  },
  {
   "cell_type": "code",
   "execution_count": 1,
   "id": "c744ec2f",
   "metadata": {},
   "outputs": [],
   "source": [
    "from sklearn.datasets import load_diabetes\n",
    "import numpy as np\n",
    "import pandas as pd\n",
    "from sklearn.linear_model import LinearRegression\n",
    "from sklearn.metrics import r2_score\n",
    "from sklearn.model_selection import train_test_split"
   ]
  },
  {
   "cell_type": "markdown",
   "id": "762537aa",
   "metadata": {},
   "source": [
    "READING THE DATASET \n"
   ]
  },
  {
   "cell_type": "code",
   "execution_count": 2,
   "id": "2bf83f40",
   "metadata": {},
   "outputs": [],
   "source": [
    "X,Y = load_diabetes(return_X_y=True)\n",
    "#HERE x HAVE THE COLUMN OF ALL THE FEATURES \n",
    "#Y HAVE THE ACTUAL OUTPUT VALUE \n"
   ]
  },
  {
   "cell_type": "code",
   "execution_count": 3,
   "id": "6ab3bd22",
   "metadata": {},
   "outputs": [],
   "source": [
    "#FOR VISUALIZATION OF THE MATRIX \n",
    "df1=pd.DataFrame(X)\n",
    "df2=pd.DataFrame(Y)"
   ]
  },
  {
   "cell_type": "code",
   "execution_count": 4,
   "id": "bdc484b2",
   "metadata": {},
   "outputs": [
    {
     "data": {
      "text/html": [
       "<div>\n",
       "<style scoped>\n",
       "    .dataframe tbody tr th:only-of-type {\n",
       "        vertical-align: middle;\n",
       "    }\n",
       "\n",
       "    .dataframe tbody tr th {\n",
       "        vertical-align: top;\n",
       "    }\n",
       "\n",
       "    .dataframe thead th {\n",
       "        text-align: right;\n",
       "    }\n",
       "</style>\n",
       "<table border=\"1\" class=\"dataframe\">\n",
       "  <thead>\n",
       "    <tr style=\"text-align: right;\">\n",
       "      <th></th>\n",
       "      <th>0</th>\n",
       "      <th>1</th>\n",
       "      <th>2</th>\n",
       "      <th>3</th>\n",
       "      <th>4</th>\n",
       "      <th>5</th>\n",
       "      <th>6</th>\n",
       "      <th>7</th>\n",
       "      <th>8</th>\n",
       "      <th>9</th>\n",
       "    </tr>\n",
       "  </thead>\n",
       "  <tbody>\n",
       "    <tr>\n",
       "      <th>0</th>\n",
       "      <td>0.038076</td>\n",
       "      <td>0.050680</td>\n",
       "      <td>0.061696</td>\n",
       "      <td>0.021872</td>\n",
       "      <td>-0.044223</td>\n",
       "      <td>-0.034821</td>\n",
       "      <td>-0.043401</td>\n",
       "      <td>-0.002592</td>\n",
       "      <td>0.019908</td>\n",
       "      <td>-0.017646</td>\n",
       "    </tr>\n",
       "    <tr>\n",
       "      <th>1</th>\n",
       "      <td>-0.001882</td>\n",
       "      <td>-0.044642</td>\n",
       "      <td>-0.051474</td>\n",
       "      <td>-0.026328</td>\n",
       "      <td>-0.008449</td>\n",
       "      <td>-0.019163</td>\n",
       "      <td>0.074412</td>\n",
       "      <td>-0.039493</td>\n",
       "      <td>-0.068330</td>\n",
       "      <td>-0.092204</td>\n",
       "    </tr>\n",
       "    <tr>\n",
       "      <th>2</th>\n",
       "      <td>0.085299</td>\n",
       "      <td>0.050680</td>\n",
       "      <td>0.044451</td>\n",
       "      <td>-0.005671</td>\n",
       "      <td>-0.045599</td>\n",
       "      <td>-0.034194</td>\n",
       "      <td>-0.032356</td>\n",
       "      <td>-0.002592</td>\n",
       "      <td>0.002864</td>\n",
       "      <td>-0.025930</td>\n",
       "    </tr>\n",
       "    <tr>\n",
       "      <th>3</th>\n",
       "      <td>-0.089063</td>\n",
       "      <td>-0.044642</td>\n",
       "      <td>-0.011595</td>\n",
       "      <td>-0.036656</td>\n",
       "      <td>0.012191</td>\n",
       "      <td>0.024991</td>\n",
       "      <td>-0.036038</td>\n",
       "      <td>0.034309</td>\n",
       "      <td>0.022692</td>\n",
       "      <td>-0.009362</td>\n",
       "    </tr>\n",
       "    <tr>\n",
       "      <th>4</th>\n",
       "      <td>0.005383</td>\n",
       "      <td>-0.044642</td>\n",
       "      <td>-0.036385</td>\n",
       "      <td>0.021872</td>\n",
       "      <td>0.003935</td>\n",
       "      <td>0.015596</td>\n",
       "      <td>0.008142</td>\n",
       "      <td>-0.002592</td>\n",
       "      <td>-0.031991</td>\n",
       "      <td>-0.046641</td>\n",
       "    </tr>\n",
       "    <tr>\n",
       "      <th>...</th>\n",
       "      <td>...</td>\n",
       "      <td>...</td>\n",
       "      <td>...</td>\n",
       "      <td>...</td>\n",
       "      <td>...</td>\n",
       "      <td>...</td>\n",
       "      <td>...</td>\n",
       "      <td>...</td>\n",
       "      <td>...</td>\n",
       "      <td>...</td>\n",
       "    </tr>\n",
       "    <tr>\n",
       "      <th>437</th>\n",
       "      <td>0.041708</td>\n",
       "      <td>0.050680</td>\n",
       "      <td>0.019662</td>\n",
       "      <td>0.059744</td>\n",
       "      <td>-0.005697</td>\n",
       "      <td>-0.002566</td>\n",
       "      <td>-0.028674</td>\n",
       "      <td>-0.002592</td>\n",
       "      <td>0.031193</td>\n",
       "      <td>0.007207</td>\n",
       "    </tr>\n",
       "    <tr>\n",
       "      <th>438</th>\n",
       "      <td>-0.005515</td>\n",
       "      <td>0.050680</td>\n",
       "      <td>-0.015906</td>\n",
       "      <td>-0.067642</td>\n",
       "      <td>0.049341</td>\n",
       "      <td>0.079165</td>\n",
       "      <td>-0.028674</td>\n",
       "      <td>0.034309</td>\n",
       "      <td>-0.018118</td>\n",
       "      <td>0.044485</td>\n",
       "    </tr>\n",
       "    <tr>\n",
       "      <th>439</th>\n",
       "      <td>0.041708</td>\n",
       "      <td>0.050680</td>\n",
       "      <td>-0.015906</td>\n",
       "      <td>0.017282</td>\n",
       "      <td>-0.037344</td>\n",
       "      <td>-0.013840</td>\n",
       "      <td>-0.024993</td>\n",
       "      <td>-0.011080</td>\n",
       "      <td>-0.046879</td>\n",
       "      <td>0.015491</td>\n",
       "    </tr>\n",
       "    <tr>\n",
       "      <th>440</th>\n",
       "      <td>-0.045472</td>\n",
       "      <td>-0.044642</td>\n",
       "      <td>0.039062</td>\n",
       "      <td>0.001215</td>\n",
       "      <td>0.016318</td>\n",
       "      <td>0.015283</td>\n",
       "      <td>-0.028674</td>\n",
       "      <td>0.026560</td>\n",
       "      <td>0.044528</td>\n",
       "      <td>-0.025930</td>\n",
       "    </tr>\n",
       "    <tr>\n",
       "      <th>441</th>\n",
       "      <td>-0.045472</td>\n",
       "      <td>-0.044642</td>\n",
       "      <td>-0.073030</td>\n",
       "      <td>-0.081414</td>\n",
       "      <td>0.083740</td>\n",
       "      <td>0.027809</td>\n",
       "      <td>0.173816</td>\n",
       "      <td>-0.039493</td>\n",
       "      <td>-0.004220</td>\n",
       "      <td>0.003064</td>\n",
       "    </tr>\n",
       "  </tbody>\n",
       "</table>\n",
       "<p>442 rows × 10 columns</p>\n",
       "</div>"
      ],
      "text/plain": [
       "            0         1         2         3         4         5         6  \\\n",
       "0    0.038076  0.050680  0.061696  0.021872 -0.044223 -0.034821 -0.043401   \n",
       "1   -0.001882 -0.044642 -0.051474 -0.026328 -0.008449 -0.019163  0.074412   \n",
       "2    0.085299  0.050680  0.044451 -0.005671 -0.045599 -0.034194 -0.032356   \n",
       "3   -0.089063 -0.044642 -0.011595 -0.036656  0.012191  0.024991 -0.036038   \n",
       "4    0.005383 -0.044642 -0.036385  0.021872  0.003935  0.015596  0.008142   \n",
       "..        ...       ...       ...       ...       ...       ...       ...   \n",
       "437  0.041708  0.050680  0.019662  0.059744 -0.005697 -0.002566 -0.028674   \n",
       "438 -0.005515  0.050680 -0.015906 -0.067642  0.049341  0.079165 -0.028674   \n",
       "439  0.041708  0.050680 -0.015906  0.017282 -0.037344 -0.013840 -0.024993   \n",
       "440 -0.045472 -0.044642  0.039062  0.001215  0.016318  0.015283 -0.028674   \n",
       "441 -0.045472 -0.044642 -0.073030 -0.081414  0.083740  0.027809  0.173816   \n",
       "\n",
       "            7         8         9  \n",
       "0   -0.002592  0.019908 -0.017646  \n",
       "1   -0.039493 -0.068330 -0.092204  \n",
       "2   -0.002592  0.002864 -0.025930  \n",
       "3    0.034309  0.022692 -0.009362  \n",
       "4   -0.002592 -0.031991 -0.046641  \n",
       "..        ...       ...       ...  \n",
       "437 -0.002592  0.031193  0.007207  \n",
       "438  0.034309 -0.018118  0.044485  \n",
       "439 -0.011080 -0.046879  0.015491  \n",
       "440  0.026560  0.044528 -0.025930  \n",
       "441 -0.039493 -0.004220  0.003064  \n",
       "\n",
       "[442 rows x 10 columns]"
      ]
     },
     "execution_count": 4,
     "metadata": {},
     "output_type": "execute_result"
    }
   ],
   "source": [
    "df1"
   ]
  },
  {
   "cell_type": "markdown",
   "id": "1c60868e",
   "metadata": {},
   "source": [
    "SPLITTING TEST TRAIN DATA \n"
   ]
  },
  {
   "cell_type": "code",
   "execution_count": 5,
   "id": "fbdaf46a",
   "metadata": {},
   "outputs": [],
   "source": [
    "X_train,X_test,Y_train,Y_test = train_test_split(X,Y,test_size=0.2,random_state=2)"
   ]
  },
  {
   "cell_type": "markdown",
   "id": "7e7c9143",
   "metadata": {},
   "source": [
    "USING PREDEFINRD REGRESSION MODEL THAT USES OLS (ORDINARY LEAST SQUARE )"
   ]
  },
  {
   "cell_type": "code",
   "execution_count": 6,
   "id": "73cdec85",
   "metadata": {},
   "outputs": [],
   "source": [
    "reg=LinearRegression()\n",
    "#REG IS THE OBJECT "
   ]
  },
  {
   "cell_type": "code",
   "execution_count": 7,
   "id": "c2e45af7",
   "metadata": {},
   "outputs": [
    {
     "data": {
      "text/plain": [
       "LinearRegression()"
      ]
     },
     "execution_count": 7,
     "metadata": {},
     "output_type": "execute_result"
    }
   ],
   "source": [
    "reg.fit(X_train,Y_train)\n",
    "#CALLING THE FIT METHOD"
   ]
  },
  {
   "cell_type": "code",
   "execution_count": 8,
   "id": "f03e80ad",
   "metadata": {},
   "outputs": [],
   "source": [
    "coeff=pd.DataFrame(reg.coef_)\n",
    "intercept=reg.intercept_\n",
    "#CALCULATING INTERCEPT AND COEF"
   ]
  },
  {
   "cell_type": "code",
   "execution_count": 9,
   "id": "6c624ec3",
   "metadata": {},
   "outputs": [
    {
     "data": {
      "text/html": [
       "<div>\n",
       "<style scoped>\n",
       "    .dataframe tbody tr th:only-of-type {\n",
       "        vertical-align: middle;\n",
       "    }\n",
       "\n",
       "    .dataframe tbody tr th {\n",
       "        vertical-align: top;\n",
       "    }\n",
       "\n",
       "    .dataframe thead th {\n",
       "        text-align: right;\n",
       "    }\n",
       "</style>\n",
       "<table border=\"1\" class=\"dataframe\">\n",
       "  <thead>\n",
       "    <tr style=\"text-align: right;\">\n",
       "      <th></th>\n",
       "      <th>0</th>\n",
       "    </tr>\n",
       "  </thead>\n",
       "  <tbody>\n",
       "    <tr>\n",
       "      <th>0</th>\n",
       "      <td>-9.160885</td>\n",
       "    </tr>\n",
       "    <tr>\n",
       "      <th>1</th>\n",
       "      <td>-205.462260</td>\n",
       "    </tr>\n",
       "    <tr>\n",
       "      <th>2</th>\n",
       "      <td>516.684624</td>\n",
       "    </tr>\n",
       "    <tr>\n",
       "      <th>3</th>\n",
       "      <td>340.627341</td>\n",
       "    </tr>\n",
       "    <tr>\n",
       "      <th>4</th>\n",
       "      <td>-895.543609</td>\n",
       "    </tr>\n",
       "    <tr>\n",
       "      <th>5</th>\n",
       "      <td>561.214533</td>\n",
       "    </tr>\n",
       "    <tr>\n",
       "      <th>6</th>\n",
       "      <td>153.884786</td>\n",
       "    </tr>\n",
       "    <tr>\n",
       "      <th>7</th>\n",
       "      <td>126.734316</td>\n",
       "    </tr>\n",
       "    <tr>\n",
       "      <th>8</th>\n",
       "      <td>861.121400</td>\n",
       "    </tr>\n",
       "    <tr>\n",
       "      <th>9</th>\n",
       "      <td>52.419828</td>\n",
       "    </tr>\n",
       "  </tbody>\n",
       "</table>\n",
       "</div>"
      ],
      "text/plain": [
       "            0\n",
       "0   -9.160885\n",
       "1 -205.462260\n",
       "2  516.684624\n",
       "3  340.627341\n",
       "4 -895.543609\n",
       "5  561.214533\n",
       "6  153.884786\n",
       "7  126.734316\n",
       "8  861.121400\n",
       "9   52.419828"
      ]
     },
     "execution_count": 9,
     "metadata": {},
     "output_type": "execute_result"
    }
   ],
   "source": [
    "coeff"
   ]
  },
  {
   "cell_type": "code",
   "execution_count": 10,
   "id": "b1dc2876",
   "metadata": {
    "scrolled": true
   },
   "outputs": [
    {
     "data": {
      "text/plain": [
       "151.88334520854633"
      ]
     },
     "execution_count": 10,
     "metadata": {},
     "output_type": "execute_result"
    }
   ],
   "source": [
    "intercept"
   ]
  },
  {
   "cell_type": "code",
   "execution_count": 11,
   "id": "35ce4506",
   "metadata": {},
   "outputs": [],
   "source": [
    "Y_Predict=reg.predict(X_test)\n",
    "Y_Predict=pd.DataFrame(Y_Predict)\n",
    "#CALLING THE PREDICT METHOD"
   ]
  },
  {
   "cell_type": "code",
   "execution_count": 12,
   "id": "3c5de554",
   "metadata": {},
   "outputs": [
    {
     "data": {
      "text/html": [
       "<div>\n",
       "<style scoped>\n",
       "    .dataframe tbody tr th:only-of-type {\n",
       "        vertical-align: middle;\n",
       "    }\n",
       "\n",
       "    .dataframe tbody tr th {\n",
       "        vertical-align: top;\n",
       "    }\n",
       "\n",
       "    .dataframe thead th {\n",
       "        text-align: right;\n",
       "    }\n",
       "</style>\n",
       "<table border=\"1\" class=\"dataframe\">\n",
       "  <thead>\n",
       "    <tr style=\"text-align: right;\">\n",
       "      <th></th>\n",
       "      <th>0</th>\n",
       "    </tr>\n",
       "  </thead>\n",
       "  <tbody>\n",
       "    <tr>\n",
       "      <th>0</th>\n",
       "      <td>154.123507</td>\n",
       "    </tr>\n",
       "    <tr>\n",
       "      <th>1</th>\n",
       "      <td>204.817216</td>\n",
       "    </tr>\n",
       "    <tr>\n",
       "      <th>2</th>\n",
       "      <td>124.929880</td>\n",
       "    </tr>\n",
       "    <tr>\n",
       "      <th>3</th>\n",
       "      <td>106.093396</td>\n",
       "    </tr>\n",
       "    <tr>\n",
       "      <th>4</th>\n",
       "      <td>258.530357</td>\n",
       "    </tr>\n",
       "    <tr>\n",
       "      <th>...</th>\n",
       "      <td>...</td>\n",
       "    </tr>\n",
       "    <tr>\n",
       "      <th>84</th>\n",
       "      <td>208.268166</td>\n",
       "    </tr>\n",
       "    <tr>\n",
       "      <th>85</th>\n",
       "      <td>143.796291</td>\n",
       "    </tr>\n",
       "    <tr>\n",
       "      <th>86</th>\n",
       "      <td>291.284381</td>\n",
       "    </tr>\n",
       "    <tr>\n",
       "      <th>87</th>\n",
       "      <td>206.326013</td>\n",
       "    </tr>\n",
       "    <tr>\n",
       "      <th>88</th>\n",
       "      <td>94.228010</td>\n",
       "    </tr>\n",
       "  </tbody>\n",
       "</table>\n",
       "<p>89 rows × 1 columns</p>\n",
       "</div>"
      ],
      "text/plain": [
       "             0\n",
       "0   154.123507\n",
       "1   204.817216\n",
       "2   124.929880\n",
       "3   106.093396\n",
       "4   258.530357\n",
       "..         ...\n",
       "84  208.268166\n",
       "85  143.796291\n",
       "86  291.284381\n",
       "87  206.326013\n",
       "88   94.228010\n",
       "\n",
       "[89 rows x 1 columns]"
      ]
     },
     "execution_count": 12,
     "metadata": {},
     "output_type": "execute_result"
    }
   ],
   "source": [
    "Y_Predict"
   ]
  },
  {
   "cell_type": "markdown",
   "id": "40687d7c",
   "metadata": {},
   "source": [
    "CALUCULATING THE EVALUATION PARAMETER "
   ]
  },
  {
   "cell_type": "code",
   "execution_count": 13,
   "id": "f41b58d8",
   "metadata": {},
   "outputs": [],
   "source": [
    "R2=r2_score(Y_test,Y_Predict)"
   ]
  },
  {
   "cell_type": "code",
   "execution_count": 14,
   "id": "c60dba18",
   "metadata": {
    "scrolled": true
   },
   "outputs": [
    {
     "data": {
      "text/plain": [
       "0.4399387660024645"
      ]
     },
     "execution_count": 14,
     "metadata": {},
     "output_type": "execute_result"
    }
   ],
   "source": [
    "R2"
   ]
  },
  {
   "cell_type": "markdown",
   "id": "f298c5e9",
   "metadata": {},
   "source": [
    "SCRATCH MODEL BUILD UP"
   ]
  },
  {
   "cell_type": "markdown",
   "id": "7c757a61",
   "metadata": {},
   "source": [
    "DEFINING OWN CLASS"
   ]
  },
  {
   "cell_type": "code",
   "execution_count": 133,
   "id": "44bb0f4e",
   "metadata": {},
   "outputs": [],
   "source": [
    "class Scratch_Reg():\n",
    "    \n",
    "    def __init__(self,LearningRate,epochs):\n",
    "        self.lr=LearningRate\n",
    "        self.epochs=epochs\n",
    "        self.constant = -2/(X_train.shape[0])\n",
    "        self.intercept=None\n",
    "        self.coeff=None\n",
    "        \n",
    "    def fit(self,X_train,Y_train):\n",
    "        self.coeff=np.ones(X_train.shape[1])\n",
    "        self.intercept=0\n",
    "\n",
    "        for i in range(self.epochs):\n",
    "\n",
    "            #CALCULATING Y PREDICTED\n",
    "            Y_hat = np.dot(X_train,self.coeff) + self.intercept\n",
    "            \n",
    "            #CALCULATING SLOPE DERIVATIVES \n",
    "            slope_intercept = -2 * (np.mean(Y_train-Y_hat))           \n",
    "            coeff_slope = (np.dot(np.transpose(X_train),Y_train-Y_hat)) * self.constant\n",
    "            \n",
    "            #CALCULATING INTERCEPT AND SLOPE\n",
    "            self.intercept = self.intercept - (self.lr*slope_intercept)\n",
    "            self.coeff = self.coeff - (self.lr * coeff_slope)\n",
    "            \n",
    "    def scratch_coeff(self):        \n",
    "        print(\"Coeffiecent: \",self.coeff)\n",
    "    \n",
    "    def scratch_intercept(self):        \n",
    "        print(\"Intercept: \",self.intercept)\n",
    "        \n",
    "    def predict(self,X_test):\n",
    "        return np.dot(X_test,self.coeff) + self.intercept\n",
    "                "
   ]
  },
  {
   "cell_type": "markdown",
   "id": "586c626c",
   "metadata": {},
   "source": [
    "CHECKING OUTPUTS"
   ]
  },
  {
   "cell_type": "code",
   "execution_count": 149,
   "id": "f481f143",
   "metadata": {},
   "outputs": [],
   "source": [
    "fr=Scratch_Reg(0.1,5000)\n",
    "#MAKING AN OBJECT FR"
   ]
  },
  {
   "cell_type": "code",
   "execution_count": 150,
   "id": "cb129625",
   "metadata": {},
   "outputs": [],
   "source": [
    "fr.fit(X_train,Y_train)\n",
    "#CALLING FIT METHOD"
   ]
  },
  {
   "cell_type": "code",
   "execution_count": 151,
   "id": "305f70ed",
   "metadata": {},
   "outputs": [
    {
     "name": "stdout",
     "output_type": "stream",
     "text": [
      "Coeffiecent:  [  14.41663246 -173.65529432  491.46361982  323.87649203  -39.29485873\n",
      " -115.95033434 -194.03043239  103.39857067  451.56795571   97.58761463]\n",
      "Intercept:  152.01361467809588\n"
     ]
    }
   ],
   "source": [
    "fr.scratch_coeff()\n",
    "fr.scratch_intercept()\n",
    "#CALLING METHOD FOOR COEFF AND INTERCEPT"
   ]
  },
  {
   "cell_type": "code",
   "execution_count": 152,
   "id": "57f7f603",
   "metadata": {},
   "outputs": [],
   "source": [
    "Y_cal=fr.predict(X_test)"
   ]
  },
  {
   "cell_type": "code",
   "execution_count": 153,
   "id": "dba3fc68",
   "metadata": {},
   "outputs": [
    {
     "data": {
      "text/plain": [
       "array([152.26606286, 198.95852768, 127.66317649, 104.59949334,\n",
       "       265.21763433, 252.08563415, 112.76236037, 115.72222334,\n",
       "        96.37398937, 187.64834449, 144.95688857, 172.11023558,\n",
       "       178.82009029, 136.52448162, 292.13367874,  87.25841511,\n",
       "       202.17521214, 149.10699028, 132.31073448, 128.71218668,\n",
       "       148.37807279, 171.82303715, 150.94627119, 174.47749422,\n",
       "       127.76203269, 221.82107832, 199.9669859 , 101.5572506 ,\n",
       "        54.86454501, 237.62228237, 244.27731253, 112.92408964,\n",
       "        68.1262872 ,  96.01485237, 204.32913989, 164.00106926,\n",
       "       160.95479577, 191.9072847 , 113.33713687, 238.45750762,\n",
       "       141.39725867, 120.46043032, 188.12586849, 186.46784619,\n",
       "       174.98143364, 143.24902445, 168.8125292 , 299.17021777,\n",
       "       105.41536308, 169.53372869, 254.36715707, 142.5932992 ,\n",
       "       151.71013731, 122.72464451, 191.52761259,  94.29116722,\n",
       "       129.05823837,  75.96625966, 157.91640953, 156.35809808,\n",
       "       163.20384543, 160.9394177 , 102.30353279, 227.74968705,\n",
       "       146.39405681, 130.1059568 , 161.02557243, 192.83201336,\n",
       "       122.94783749, 126.87218119, 217.79085474, 199.19561744,\n",
       "       123.41924016, 154.18728776, 146.26524766, 112.40194819,\n",
       "        80.42795823,  77.96903927, 169.33008752,  81.11337228,\n",
       "        97.26144997,  97.98726655, 179.30754117, 275.57483332,\n",
       "       206.2051622 , 146.76152421, 282.54426553, 202.32766535,\n",
       "        98.44087933])"
      ]
     },
     "execution_count": 153,
     "metadata": {},
     "output_type": "execute_result"
    }
   ],
   "source": [
    "Y_cal"
   ]
  },
  {
   "cell_type": "markdown",
   "id": "57224189",
   "metadata": {},
   "source": [
    "CALCULATING PARAMETERS"
   ]
  },
  {
   "cell_type": "code",
   "execution_count": 154,
   "id": "aef40994",
   "metadata": {},
   "outputs": [],
   "source": [
    "R2_scratch=r2_score(Y_test,Y_cal)"
   ]
  },
  {
   "cell_type": "code",
   "execution_count": 155,
   "id": "a4f1df63",
   "metadata": {},
   "outputs": [
    {
     "data": {
      "text/plain": [
       "0.4534551683429666"
      ]
     },
     "execution_count": 155,
     "metadata": {},
     "output_type": "execute_result"
    }
   ],
   "source": [
    "R2_scratch"
   ]
  }
 ],
 "metadata": {
  "kernelspec": {
   "display_name": "Python 3 (ipykernel)",
   "language": "python",
   "name": "python3"
  },
  "language_info": {
   "codemirror_mode": {
    "name": "ipython",
    "version": 3
   },
   "file_extension": ".py",
   "mimetype": "text/x-python",
   "name": "python",
   "nbconvert_exporter": "python",
   "pygments_lexer": "ipython3",
   "version": "3.10.2"
  }
 },
 "nbformat": 4,
 "nbformat_minor": 5
}

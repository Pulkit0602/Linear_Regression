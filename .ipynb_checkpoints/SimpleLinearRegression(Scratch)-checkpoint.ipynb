{
 "cells": [
  {
   "cell_type": "code",
   "execution_count": 1,
   "id": "745c4f60",
   "metadata": {},
   "outputs": [
    {
     "ename": "ImportError",
     "evalue": "cannot import name 'mean_absolute_error' from 'sklearn.model_selection' (C:\\Users\\Dell\\AppData\\Local\\Programs\\Python\\Python310\\lib\\site-packages\\sklearn\\model_selection\\__init__.py)",
     "output_type": "error",
     "traceback": [
      "\u001b[1;31m---------------------------------------------------------------------------\u001b[0m",
      "\u001b[1;31mImportError\u001b[0m                               Traceback (most recent call last)",
      "Input \u001b[1;32mIn [1]\u001b[0m, in \u001b[0;36m<module>\u001b[1;34m\u001b[0m\n\u001b[0;32m      2\u001b[0m \u001b[38;5;28;01mimport\u001b[39;00m \u001b[38;5;21;01mnumpy\u001b[39;00m \u001b[38;5;28;01mas\u001b[39;00m \u001b[38;5;21;01mnp\u001b[39;00m\n\u001b[0;32m      3\u001b[0m \u001b[38;5;28;01mfrom\u001b[39;00m \u001b[38;5;21;01msklearn\u001b[39;00m\u001b[38;5;21;01m.\u001b[39;00m\u001b[38;5;21;01mmodel_selection\u001b[39;00m \u001b[38;5;28;01mimport\u001b[39;00m train_test_split\n\u001b[1;32m----> 4\u001b[0m \u001b[38;5;28;01mfrom\u001b[39;00m \u001b[38;5;21;01msklearn\u001b[39;00m\u001b[38;5;21;01m.\u001b[39;00m\u001b[38;5;21;01mmodel_selection\u001b[39;00m \u001b[38;5;28;01mimport\u001b[39;00m mean_absolute_error,mean_squared_erroe,R2_score\n",
      "\u001b[1;31mImportError\u001b[0m: cannot import name 'mean_absolute_error' from 'sklearn.model_selection' (C:\\Users\\Dell\\AppData\\Local\\Programs\\Python\\Python310\\lib\\site-packages\\sklearn\\model_selection\\__init__.py)"
     ]
    }
   ],
   "source": [
    "import pandas as pd\n",
    "import numpy as np\n",
    "from sklearn.model_selection import train_test_split\n",
    "from sklearn.model_selection import mean_absolute_error,mean_squared_erroe,R2_score"
   ]
  },
  {
   "cell_type": "code",
   "execution_count": 3,
   "id": "feb37233",
   "metadata": {},
   "outputs": [],
   "source": [
    "df=pd.read_csv(\"placement.csv\")"
   ]
  },
  {
   "cell_type": "code",
   "execution_count": 57,
   "id": "cb13827a",
   "metadata": {},
   "outputs": [],
   "source": [
    "class ScratchSimpleRegreession:\n",
    "    \n",
    "    def __init__(self):    \n",
    "        self.m=0\n",
    "        self.b=0\n",
    "        \n",
    "    def train(self,X,Y):\n",
    "        num,den=0,0\n",
    "        for xi,yj in zip(X,Y):\n",
    "           #print(xi,yj)\n",
    "            num = num + ((xi-X.mean()) * (yj-Y.mean()))\n",
    "            den = den + ((xi-X.mean())**2)\n",
    "        self.m = (num/den)\n",
    "        self.b = Y .mean()-(self.m*X.mean())  \n",
    "        print(\"m =\",self.m,\"b =\",self.b)\n",
    "\n",
    "    def test(self,X):\n",
    "        for xi in X:\n",
    "            yj = self.b + (self.m*xi)\n",
    "            #print(yj,\"=\",self.b,\"+\",self.m,\"*\",xi)\n",
    "            print(xi,yj)\n",
    "            \n",
    "    def userInput(self,X):\n",
    "        yj = self.b + (self.m*X)\n",
    "        #print(yj,\"=\",self.b,\"+\",self.m,\"*\",xi)\n",
    "        print(\"C.G.P.A =\",X)\n",
    "        print(\"Expected Package =\",yj)\n",
    "        \n",
    "            "
   ]
  },
  {
   "cell_type": "code",
   "execution_count": 54,
   "id": "e8e2d645",
   "metadata": {},
   "outputs": [],
   "source": [
    "X=df[\"cgpa\"].values\n",
    "Y=df[\"package\"].values\n",
    "X_train,X_test,Y_train,Y_test=train_test_split(X, Y, test_size=0.2,random_state=2)"
   ]
  },
  {
   "cell_type": "code",
   "execution_count": 58,
   "id": "d4b022b0",
   "metadata": {},
   "outputs": [
    {
     "name": "stdout",
     "output_type": "stream",
     "text": [
      "m = 0.5579519734250721 b = -0.8961119222429152\n"
     ]
    }
   ],
   "source": [
    "tr=ScratchSimpleRegreession()\n",
    "tr.train(X_train,Y_train)\n"
   ]
  },
  {
   "cell_type": "code",
   "execution_count": 59,
   "id": "81054c24",
   "metadata": {},
   "outputs": [
    {
     "name": "stdout",
     "output_type": "stream",
     "text": [
      "Enter the C.G.P.A 8.58\n",
      "C.G.P.A = 6.22\n",
      "Expected Package = 3.891116009744203\n"
     ]
    }
   ],
   "source": [
    "n = float(input(\"Enter the C.G.P.A \"))\n",
    "tr.userInput(n)"
   ]
  },
  {
   "cell_type": "code",
   "execution_count": 43,
   "id": "3168828f",
   "metadata": {},
   "outputs": [
    {
     "name": "stdout",
     "output_type": "stream",
     "text": [
      "8.58 3.891116009744203\n",
      "7.15 3.0932446877463504\n",
      "5.88 2.3846456814965085\n",
      "6.22 2.574349352461033\n",
      "4.57 1.6537285963096644\n",
      "4.79 1.77647803046318\n",
      "5.32 2.0721925763784683\n",
      "6.86 2.9314386154530796\n",
      "8.35 3.7627870558564362\n",
      "6.87 2.93701813518733\n",
      "8.94 4.091978720177229\n",
      "7.9 3.511708667815155\n",
      "6.93 2.970495253592834\n",
      "5.91 2.4013842406992607\n",
      "7.32 3.1880965232286123\n",
      "7.82 3.467072509941149\n",
      "5.09 1.9438636224907015\n",
      "7.42 3.2438917205711197\n",
      "6.94 2.976074773327085\n",
      "7.73 3.4168568323328925\n",
      "6.19 2.5576107932582812\n",
      "7.28 3.1657784442916093\n",
      "6.73 2.85890485890782\n",
      "7.2 3.121142286417604\n",
      "8.21 3.6846737795769267\n",
      "6.75 2.8700638983763214\n",
      "7.87 3.494970108612402\n",
      "7.6 3.3443230757876323\n",
      "8.63 3.919013608415457\n",
      "5.12 1.9606021816934538\n",
      "8.15 3.651196661171422\n",
      "7.36 3.2104146021656152\n",
      "8.31 3.740468976919434\n",
      "6.6 2.78637110236256\n",
      "6.59 2.78079158262831\n",
      "7.47 3.271789319242373\n",
      "7.93 3.5284472270179066\n",
      "6.29 2.6134059906007883\n",
      "6.37 2.658042148474794\n",
      "6.47 2.713837345817301\n"
     ]
    }
   ],
   "source": [
    "tr.test(X_test)"
   ]
  }
 ],
 "metadata": {
  "kernelspec": {
   "display_name": "Python 3 (ipykernel)",
   "language": "python",
   "name": "python3"
  },
  "language_info": {
   "codemirror_mode": {
    "name": "ipython",
    "version": 3
   },
   "file_extension": ".py",
   "mimetype": "text/x-python",
   "name": "python",
   "nbconvert_exporter": "python",
   "pygments_lexer": "ipython3",
   "version": "3.10.2"
  }
 },
 "nbformat": 4,
 "nbformat_minor": 5
}

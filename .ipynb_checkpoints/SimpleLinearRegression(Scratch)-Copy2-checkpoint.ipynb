{
 "cells": [
  {
   "cell_type": "code",
   "execution_count": 18,
   "id": "745c4f60",
   "metadata": {},
   "outputs": [],
   "source": [
    "import pandas as pd\n",
    "import numpy as np\n",
    "from sklearn.model_selection import train_test_split\n",
    "from sklearn.metrics import mean_absolute_error,mean_squared_error,r2_score\n",
    "from sklearn.linear_model import LinearRegression\n",
    "from sklearn.datasets import load_diabetes\n",
    "import numpy as np"
   ]
  },
  {
   "cell_type": "code",
   "execution_count": 11,
   "id": "fcdf8086",
   "metadata": {},
   "outputs": [],
   "source": [
    "data = load_diabetes()\n",
    "df = pd.DataFrame(data.data, columns=data.feature_names)\n",
    "df.insert(loc=0,column = 'col1',value = 1)"
   ]
  },
  {
   "cell_type": "code",
   "execution_count": 13,
   "id": "d885066f",
   "metadata": {
    "scrolled": true
   },
   "outputs": [
    {
     "data": {
      "text/plain": [
       "(442, 11)"
      ]
     },
     "execution_count": 13,
     "metadata": {},
     "output_type": "execute_result"
    }
   ],
   "source": [
    "df.shape"
   ]
  },
  {
   "cell_type": "code",
   "execution_count": 14,
   "id": "dc312328",
   "metadata": {},
   "outputs": [],
   "source": [
    "X=df.iloc[:,:]"
   ]
  },
  {
   "cell_type": "code",
   "execution_count": 15,
   "id": "52588b55",
   "metadata": {},
   "outputs": [],
   "source": [
    "Y=data.target"
   ]
  },
  {
   "cell_type": "code",
   "execution_count": 34,
   "id": "c3b2d4c8",
   "metadata": {},
   "outputs": [
    {
     "data": {
      "text/plain": [
       "pandas.core.frame.DataFrame"
      ]
     },
     "execution_count": 34,
     "metadata": {},
     "output_type": "execute_result"
    }
   ],
   "source": [
    "type(X)"
   ]
  },
  {
   "cell_type": "code",
   "execution_count": 16,
   "id": "e8e2d645",
   "metadata": {},
   "outputs": [],
   "source": [
    "X_train,X_test,Y_train,Y_test=train_test_split(X, Y, test_size=0.2,random_state=2)"
   ]
  },
  {
   "cell_type": "code",
   "execution_count": null,
   "id": "1b342adf",
   "metadata": {},
   "outputs": [],
   "source": [
    "class ScratchMultipleRegreession:\n",
    "    \n",
    "    def __init__(self):    \n",
    "        self.coef=0\n",
    "        self.intercept=0\n",
    "        \n",
    "    def train(self,X,Y):\n",
    "        num,den=0,0\n",
    "        for xi,yj in zip(X,Y):\n",
    "           #print(xi,yj)\n",
    "            num = num + ((xi-X.mean()) * (yj-Y.mean()))\n",
    "            den = den + ((xi-X.mean())**2)\n",
    "        self.m = (num/den)\n",
    "        self.b = Y .mean()-(self.m*X.mean())  \n",
    "        print(\"m =\",self.m,\"b =\",self.b)\n",
    "\n",
    "    def test(self,X):\n",
    "        for xi in X:\n",
    "            yj = self.b + (self.m*xi)\n",
    "            #print(yj,\"=\",self.b,\"+\",self.m,\"*\",xi)\n",
    "            print(xi,yj)\n",
    "            \n",
    "    def userInput(self,X):\n",
    "        yj = self.b + (self.m*X)\n",
    "        #print(yj,\"=\",self.b,\"+\",self.m,\"*\",xi)\n",
    "        print(\"C.G.P.A =\",X)\n",
    "        print(\"Expected Package =\",yj)"
   ]
  },
  {
   "cell_type": "code",
   "execution_count": 22,
   "id": "65561a10",
   "metadata": {},
   "outputs": [
    {
     "data": {
      "text/html": [
       "<div>\n",
       "<style scoped>\n",
       "    .dataframe tbody tr th:only-of-type {\n",
       "        vertical-align: middle;\n",
       "    }\n",
       "\n",
       "    .dataframe tbody tr th {\n",
       "        vertical-align: top;\n",
       "    }\n",
       "\n",
       "    .dataframe thead th {\n",
       "        text-align: right;\n",
       "    }\n",
       "</style>\n",
       "<table border=\"1\" class=\"dataframe\">\n",
       "  <thead>\n",
       "    <tr style=\"text-align: right;\">\n",
       "      <th></th>\n",
       "      <th>col1</th>\n",
       "      <th>age</th>\n",
       "      <th>sex</th>\n",
       "      <th>bmi</th>\n",
       "      <th>bp</th>\n",
       "      <th>s1</th>\n",
       "      <th>s2</th>\n",
       "      <th>s3</th>\n",
       "      <th>s4</th>\n",
       "      <th>s5</th>\n",
       "      <th>s6</th>\n",
       "    </tr>\n",
       "  </thead>\n",
       "  <tbody>\n",
       "    <tr>\n",
       "      <th>0</th>\n",
       "      <td>1</td>\n",
       "      <td>0.038076</td>\n",
       "      <td>0.050680</td>\n",
       "      <td>0.061696</td>\n",
       "      <td>0.021872</td>\n",
       "      <td>-0.044223</td>\n",
       "      <td>-0.034821</td>\n",
       "      <td>-0.043401</td>\n",
       "      <td>-0.002592</td>\n",
       "      <td>0.019908</td>\n",
       "      <td>-0.017646</td>\n",
       "    </tr>\n",
       "    <tr>\n",
       "      <th>1</th>\n",
       "      <td>1</td>\n",
       "      <td>-0.001882</td>\n",
       "      <td>-0.044642</td>\n",
       "      <td>-0.051474</td>\n",
       "      <td>-0.026328</td>\n",
       "      <td>-0.008449</td>\n",
       "      <td>-0.019163</td>\n",
       "      <td>0.074412</td>\n",
       "      <td>-0.039493</td>\n",
       "      <td>-0.068330</td>\n",
       "      <td>-0.092204</td>\n",
       "    </tr>\n",
       "    <tr>\n",
       "      <th>2</th>\n",
       "      <td>1</td>\n",
       "      <td>0.085299</td>\n",
       "      <td>0.050680</td>\n",
       "      <td>0.044451</td>\n",
       "      <td>-0.005671</td>\n",
       "      <td>-0.045599</td>\n",
       "      <td>-0.034194</td>\n",
       "      <td>-0.032356</td>\n",
       "      <td>-0.002592</td>\n",
       "      <td>0.002864</td>\n",
       "      <td>-0.025930</td>\n",
       "    </tr>\n",
       "    <tr>\n",
       "      <th>3</th>\n",
       "      <td>1</td>\n",
       "      <td>-0.089063</td>\n",
       "      <td>-0.044642</td>\n",
       "      <td>-0.011595</td>\n",
       "      <td>-0.036656</td>\n",
       "      <td>0.012191</td>\n",
       "      <td>0.024991</td>\n",
       "      <td>-0.036038</td>\n",
       "      <td>0.034309</td>\n",
       "      <td>0.022692</td>\n",
       "      <td>-0.009362</td>\n",
       "    </tr>\n",
       "    <tr>\n",
       "      <th>4</th>\n",
       "      <td>1</td>\n",
       "      <td>0.005383</td>\n",
       "      <td>-0.044642</td>\n",
       "      <td>-0.036385</td>\n",
       "      <td>0.021872</td>\n",
       "      <td>0.003935</td>\n",
       "      <td>0.015596</td>\n",
       "      <td>0.008142</td>\n",
       "      <td>-0.002592</td>\n",
       "      <td>-0.031991</td>\n",
       "      <td>-0.046641</td>\n",
       "    </tr>\n",
       "    <tr>\n",
       "      <th>...</th>\n",
       "      <td>...</td>\n",
       "      <td>...</td>\n",
       "      <td>...</td>\n",
       "      <td>...</td>\n",
       "      <td>...</td>\n",
       "      <td>...</td>\n",
       "      <td>...</td>\n",
       "      <td>...</td>\n",
       "      <td>...</td>\n",
       "      <td>...</td>\n",
       "      <td>...</td>\n",
       "    </tr>\n",
       "    <tr>\n",
       "      <th>437</th>\n",
       "      <td>1</td>\n",
       "      <td>0.041708</td>\n",
       "      <td>0.050680</td>\n",
       "      <td>0.019662</td>\n",
       "      <td>0.059744</td>\n",
       "      <td>-0.005697</td>\n",
       "      <td>-0.002566</td>\n",
       "      <td>-0.028674</td>\n",
       "      <td>-0.002592</td>\n",
       "      <td>0.031193</td>\n",
       "      <td>0.007207</td>\n",
       "    </tr>\n",
       "    <tr>\n",
       "      <th>438</th>\n",
       "      <td>1</td>\n",
       "      <td>-0.005515</td>\n",
       "      <td>0.050680</td>\n",
       "      <td>-0.015906</td>\n",
       "      <td>-0.067642</td>\n",
       "      <td>0.049341</td>\n",
       "      <td>0.079165</td>\n",
       "      <td>-0.028674</td>\n",
       "      <td>0.034309</td>\n",
       "      <td>-0.018118</td>\n",
       "      <td>0.044485</td>\n",
       "    </tr>\n",
       "    <tr>\n",
       "      <th>439</th>\n",
       "      <td>1</td>\n",
       "      <td>0.041708</td>\n",
       "      <td>0.050680</td>\n",
       "      <td>-0.015906</td>\n",
       "      <td>0.017282</td>\n",
       "      <td>-0.037344</td>\n",
       "      <td>-0.013840</td>\n",
       "      <td>-0.024993</td>\n",
       "      <td>-0.011080</td>\n",
       "      <td>-0.046879</td>\n",
       "      <td>0.015491</td>\n",
       "    </tr>\n",
       "    <tr>\n",
       "      <th>440</th>\n",
       "      <td>1</td>\n",
       "      <td>-0.045472</td>\n",
       "      <td>-0.044642</td>\n",
       "      <td>0.039062</td>\n",
       "      <td>0.001215</td>\n",
       "      <td>0.016318</td>\n",
       "      <td>0.015283</td>\n",
       "      <td>-0.028674</td>\n",
       "      <td>0.026560</td>\n",
       "      <td>0.044528</td>\n",
       "      <td>-0.025930</td>\n",
       "    </tr>\n",
       "    <tr>\n",
       "      <th>441</th>\n",
       "      <td>1</td>\n",
       "      <td>-0.045472</td>\n",
       "      <td>-0.044642</td>\n",
       "      <td>-0.073030</td>\n",
       "      <td>-0.081414</td>\n",
       "      <td>0.083740</td>\n",
       "      <td>0.027809</td>\n",
       "      <td>0.173816</td>\n",
       "      <td>-0.039493</td>\n",
       "      <td>-0.004220</td>\n",
       "      <td>0.003064</td>\n",
       "    </tr>\n",
       "  </tbody>\n",
       "</table>\n",
       "<p>442 rows × 11 columns</p>\n",
       "</div>"
      ],
      "text/plain": [
       "     col1       age       sex       bmi        bp        s1        s2  \\\n",
       "0       1  0.038076  0.050680  0.061696  0.021872 -0.044223 -0.034821   \n",
       "1       1 -0.001882 -0.044642 -0.051474 -0.026328 -0.008449 -0.019163   \n",
       "2       1  0.085299  0.050680  0.044451 -0.005671 -0.045599 -0.034194   \n",
       "3       1 -0.089063 -0.044642 -0.011595 -0.036656  0.012191  0.024991   \n",
       "4       1  0.005383 -0.044642 -0.036385  0.021872  0.003935  0.015596   \n",
       "..    ...       ...       ...       ...       ...       ...       ...   \n",
       "437     1  0.041708  0.050680  0.019662  0.059744 -0.005697 -0.002566   \n",
       "438     1 -0.005515  0.050680 -0.015906 -0.067642  0.049341  0.079165   \n",
       "439     1  0.041708  0.050680 -0.015906  0.017282 -0.037344 -0.013840   \n",
       "440     1 -0.045472 -0.044642  0.039062  0.001215  0.016318  0.015283   \n",
       "441     1 -0.045472 -0.044642 -0.073030 -0.081414  0.083740  0.027809   \n",
       "\n",
       "           s3        s4        s5        s6  \n",
       "0   -0.043401 -0.002592  0.019908 -0.017646  \n",
       "1    0.074412 -0.039493 -0.068330 -0.092204  \n",
       "2   -0.032356 -0.002592  0.002864 -0.025930  \n",
       "3   -0.036038  0.034309  0.022692 -0.009362  \n",
       "4    0.008142 -0.002592 -0.031991 -0.046641  \n",
       "..        ...       ...       ...       ...  \n",
       "437 -0.028674 -0.002592  0.031193  0.007207  \n",
       "438 -0.028674  0.034309 -0.018118  0.044485  \n",
       "439 -0.024993 -0.011080 -0.046879  0.015491  \n",
       "440 -0.028674  0.026560  0.044528 -0.025930  \n",
       "441  0.173816 -0.039493 -0.004220  0.003064  \n",
       "\n",
       "[442 rows x 11 columns]"
      ]
     },
     "execution_count": 22,
     "metadata": {},
     "output_type": "execute_result"
    }
   ],
   "source": [
    "X"
   ]
  },
  {
   "cell_type": "code",
   "execution_count": 28,
   "id": "c4ca2e9c",
   "metadata": {},
   "outputs": [],
   "source": [
    "res=np.linalg.inv(np.transpose(X_train)@X_train)\n",
    "res1=res@np.transpose(X_train)"
   ]
  },
  {
   "cell_type": "code",
   "execution_count": 34,
   "id": "3fbe8356",
   "metadata": {},
   "outputs": [],
   "source": [
    "coeff=pd.DataFrame(res1@Y_train)"
   ]
  },
  {
   "cell_type": "code",
   "execution_count": 38,
   "id": "73fa2f7b",
   "metadata": {},
   "outputs": [
    {
     "name": "stdout",
     "output_type": "stream",
     "text": [
      "(89, 11)\n",
      "(11, 1)\n"
     ]
    }
   ],
   "source": [
    "print(X_test.shape)\n",
    "print(coeff.shape)"
   ]
  },
  {
   "cell_type": "code",
   "execution_count": 42,
   "id": "5970834a",
   "metadata": {
    "scrolled": true
   },
   "outputs": [],
   "source": [
    "Y_pred=np.dot(X_test,coeff)\n"
   ]
  },
  {
   "cell_type": "code",
   "execution_count": 43,
   "id": "d037b2ab",
   "metadata": {},
   "outputs": [
    {
     "data": {
      "text/plain": [
       "array([[154.1235067 ],\n",
       "       [204.81721599],\n",
       "       [124.92988001],\n",
       "       [106.09339576],\n",
       "       [258.53035681],\n",
       "       [256.32953702],\n",
       "       [118.75258786],\n",
       "       [119.52147402],\n",
       "       [101.50717468],\n",
       "       [190.54137158],\n",
       "       [141.70360267],\n",
       "       [172.51631204],\n",
       "       [174.34089304],\n",
       "       [134.81184017],\n",
       "       [294.13950798],\n",
       "       [ 94.11403289],\n",
       "       [211.97052873],\n",
       "       [156.49984762],\n",
       "       [134.20709632],\n",
       "       [119.62534726],\n",
       "       [148.88045343],\n",
       "       [165.00378118],\n",
       "       [151.09977307],\n",
       "       [176.03719872],\n",
       "       [133.27651748],\n",
       "       [221.29531227],\n",
       "       [197.17482787],\n",
       "       [ 96.15923158],\n",
       "       [ 50.26531577],\n",
       "       [230.48342249],\n",
       "       [242.06266394],\n",
       "       [114.1153262 ],\n",
       "       [ 67.0785352 ],\n",
       "       [ 94.53179042],\n",
       "       [201.21593262],\n",
       "       [167.05306138],\n",
       "       [159.87838519],\n",
       "       [192.78601513],\n",
       "       [114.49291816],\n",
       "       [233.4825497 ],\n",
       "       [140.82309666],\n",
       "       [121.06814332],\n",
       "       [192.27431013],\n",
       "       [191.13157307],\n",
       "       [179.1698153 ],\n",
       "       [148.35140027],\n",
       "       [163.47610288],\n",
       "       [276.81203359],\n",
       "       [100.17813072],\n",
       "       [164.11265163],\n",
       "       [255.81074398],\n",
       "       [136.94979051],\n",
       "       [152.37507828],\n",
       "       [107.92662528],\n",
       "       [194.21661635],\n",
       "       [ 77.35015426],\n",
       "       [118.50951725],\n",
       "       [ 68.38527563],\n",
       "       [154.29094022],\n",
       "       [162.48905632],\n",
       "       [168.36590928],\n",
       "       [156.8764705 ],\n",
       "       [ 97.13958436],\n",
       "       [238.17121803],\n",
       "       [145.46093854],\n",
       "       [117.65678691],\n",
       "       [168.88768692],\n",
       "       [198.38893625],\n",
       "       [118.24408332],\n",
       "       [124.64831033],\n",
       "       [223.17842907],\n",
       "       [200.62634508],\n",
       "       [129.54591274],\n",
       "       [158.1553552 ],\n",
       "       [154.33593871],\n",
       "       [114.47109854],\n",
       "       [ 70.4524892 ],\n",
       "       [ 76.39237963],\n",
       "       [172.41319558],\n",
       "       [ 80.56189628],\n",
       "       [ 80.27309695],\n",
       "       [ 89.46135201],\n",
       "       [186.21265361],\n",
       "       [275.46607679],\n",
       "       [208.26816596],\n",
       "       [143.7962915 ],\n",
       "       [291.28438095],\n",
       "       [206.32601303],\n",
       "       [ 94.22801028]])"
      ]
     },
     "execution_count": 43,
     "metadata": {},
     "output_type": "execute_result"
    }
   ],
   "source": [
    "Y_pred"
   ]
  }
 ],
 "metadata": {
  "kernelspec": {
   "display_name": "Python 3 (ipykernel)",
   "language": "python",
   "name": "python3"
  },
  "language_info": {
   "codemirror_mode": {
    "name": "ipython",
    "version": 3
   },
   "file_extension": ".py",
   "mimetype": "text/x-python",
   "name": "python",
   "nbconvert_exporter": "python",
   "pygments_lexer": "ipython3",
   "version": "3.10.2"
  }
 },
 "nbformat": 4,
 "nbformat_minor": 5
}

{
 "cells": [
  {
   "cell_type": "code",
   "execution_count": 4,
   "id": "745c4f60",
   "metadata": {},
   "outputs": [],
   "source": [
    "import pandas as pd\n",
    "import numpy as np\n",
    "from sklearn.model_selection import train_test_split\n",
    "from sklearn.metrics import mean_absolute_error,mean_squared_error,r2_score"
   ]
  },
  {
   "cell_type": "code",
   "execution_count": 5,
   "id": "feb37233",
   "metadata": {},
   "outputs": [],
   "source": [
    "df=pd.read_csv(\"placement.csv\")"
   ]
  },
  {
   "cell_type": "code",
   "execution_count": 20,
   "id": "cb13827a",
   "metadata": {},
   "outputs": [],
   "source": [
    "class ScratchSimpleRegreession:\n",
    "    \n",
    "    def __init__(self):    \n",
    "        self.m=0\n",
    "        self.b=0\n",
    "        \n",
    "    def train(self,X,Y):\n",
    "        num,den=0,0\n",
    "        for xi,yj in zip(X,Y):\n",
    "           #print(xi,yj)\n",
    "            num = num + ((xi-X.mean()) * (yj-Y.mean()))\n",
    "            den = den + ((xi-X.mean())**2)\n",
    "        self.m = (num/den)\n",
    "        self.b = Y .mean()-(self.m*X.mean())  \n",
    "        print(\"m =\",self.m,\"b =\",self.b)\n",
    "\n",
    "    def test(self,X):\n",
    "        for xi in X:\n",
    "            yj = self.b + (self.m*xi)\n",
    "            #print(yj,\"=\",self.b,\"+\",self.m,\"*\",xi)\n",
    "            print(xi,yj)\n",
    "            \n",
    "    def userInput(self,X):\n",
    "        yj = self.b + (self.m*X)\n",
    "        #print(yj,\"=\",self.b,\"+\",self.m,\"*\",xi)\n",
    "        print(\"C.G.P.A =\",X)\n",
    "        print(\"Expected Package =\",yj)\n",
    "        \n",
    "            "
   ]
  },
  {
   "cell_type": "code",
   "execution_count": 21,
   "id": "e8e2d645",
   "metadata": {},
   "outputs": [],
   "source": [
    "X=df[\"cgpa\"].values\n",
    "Y=df[\"package\"].values\n",
    "X_train,X_test,Y_train,Y_test=train_test_split(X, Y, test_size=0.2,random_state=2)"
   ]
  },
  {
   "cell_type": "code",
   "execution_count": 22,
   "id": "d4b022b0",
   "metadata": {},
   "outputs": [
    {
     "name": "stdout",
     "output_type": "stream",
     "text": [
      "m = 0.5579519734250721 b = -0.8961119222429152\n"
     ]
    }
   ],
   "source": [
    "tr=ScratchSimpleRegreession()\n",
    "tr.train(X_train,Y_train)\n"
   ]
  },
  {
   "cell_type": "code",
   "execution_count": 23,
   "id": "81054c24",
   "metadata": {},
   "outputs": [
    {
     "name": "stdout",
     "output_type": "stream",
     "text": [
      "Enter the C.G.P.A 2.0\n",
      "C.G.P.A = 2.0\n",
      "Expected Package = 0.2197920246072289\n"
     ]
    }
   ],
   "source": [
    "n = float(input(\"Enter the C.G.P.A \"))\n",
    "tr.userInput(n)"
   ]
  }
 ],
 "metadata": {
  "kernelspec": {
   "display_name": "Python 3 (ipykernel)",
   "language": "python",
   "name": "python3"
  },
  "language_info": {
   "codemirror_mode": {
    "name": "ipython",
    "version": 3
   },
   "file_extension": ".py",
   "mimetype": "text/x-python",
   "name": "python",
   "nbconvert_exporter": "python",
   "pygments_lexer": "ipython3",
   "version": "3.10.2"
  }
 },
 "nbformat": 4,
 "nbformat_minor": 5
}
